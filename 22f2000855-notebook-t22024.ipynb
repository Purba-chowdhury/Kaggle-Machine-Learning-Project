{
 "cells": [
  {
   "cell_type": "code",
   "execution_count": 1,
   "id": "f8a26135",
   "metadata": {
    "_cell_guid": "b1076dfc-b9ad-4769-8c92-a6c4dae69d19",
    "_uuid": "8f2839f25d086af736a60e9eeb907d3b93b6e0e5",
    "execution": {
     "iopub.execute_input": "2024-08-02T10:22:21.105221Z",
     "iopub.status.busy": "2024-08-02T10:22:21.104810Z",
     "iopub.status.idle": "2024-08-02T10:22:22.106886Z",
     "shell.execute_reply": "2024-08-02T10:22:22.105516Z"
    },
    "papermill": {
     "duration": 1.02392,
     "end_time": "2024-08-02T10:22:22.109590",
     "exception": false,
     "start_time": "2024-08-02T10:22:21.085670",
     "status": "completed"
    },
    "tags": []
   },
   "outputs": [
    {
     "name": "stdout",
     "output_type": "stream",
     "text": [
      "/kaggle/input/crime-cast-forecasting-crime-categories/sample.csv\n",
      "/kaggle/input/crime-cast-forecasting-crime-categories/train.csv\n",
      "/kaggle/input/crime-cast-forecasting-crime-categories/test.csv\n"
     ]
    }
   ],
   "source": [
    "# This Python 3 environment comes with many helpful analytics libraries installed\n",
    "# It is defined by the kaggle/python Docker image: https://github.com/kaggle/docker-python\n",
    "# For example, here's several helpful packages to load\n",
    "\n",
    "import numpy as np # linear algebra\n",
    "import pandas as pd # data processing, CSV file I/O (e.g. pd.read_csv)\n",
    "\n",
    "# Input data files are available in the read-only \"../input/\" directory\n",
    "# For example, running this (by clicking run or pressing Shift+Enter) will list all files under the input directory\n",
    "\n",
    "import os\n",
    "for dirname, _, filenames in os.walk('/kaggle/input'):\n",
    "    for filename in filenames:\n",
    "        print(os.path.join(dirname, filename))\n",
    "\n",
    "# You can write up to 20GB to the current directory (/kaggle/working/) that gets preserved as output when you create a version using \"Save & Run All\" \n",
    "# You can also write temporary files to /kaggle/temp/, but they won't be saved outside of the current session"
   ]
  },
  {
   "cell_type": "code",
   "execution_count": 2,
   "id": "ed02a918",
   "metadata": {
    "execution": {
     "iopub.execute_input": "2024-08-02T10:22:22.145376Z",
     "iopub.status.busy": "2024-08-02T10:22:22.144492Z",
     "iopub.status.idle": "2024-08-02T10:22:24.130020Z",
     "shell.execute_reply": "2024-08-02T10:22:24.128450Z"
    },
    "papermill": {
     "duration": 2.00633,
     "end_time": "2024-08-02T10:22:24.132797",
     "exception": false,
     "start_time": "2024-08-02T10:22:22.126467",
     "status": "completed"
    },
    "tags": []
   },
   "outputs": [],
   "source": [
    "import matplotlib.pyplot as plt\n",
    "import os\n",
    "import requests\n",
    "\n",
    "from sklearn.datasets import fetch_openml\n",
    "from sklearn.preprocessing import StandardScaler, OneHotEncoder, OrdinalEncoder, MinMaxScaler\n",
    "from sklearn.compose import ColumnTransformer\n",
    "from sklearn.pipeline import Pipeline, FeatureUnion\n",
    "from sklearn.impute import SimpleImputer, KNNImputer\n",
    "from sklearn.linear_model import LogisticRegression\n",
    "from sklearn.feature_selection import RFE\n",
    "from sklearn.feature_selection import SequentialFeatureSelector\n",
    "from sklearn import set_config\n",
    "from sklearn.feature_extraction.text import CountVectorizer\n",
    "from sklearn.preprocessing import LabelEncoder,MinMaxScaler"
   ]
  },
  {
   "cell_type": "code",
   "execution_count": 3,
   "id": "a6172d62",
   "metadata": {
    "execution": {
     "iopub.execute_input": "2024-08-02T10:22:24.169286Z",
     "iopub.status.busy": "2024-08-02T10:22:24.168843Z",
     "iopub.status.idle": "2024-08-02T10:22:24.366549Z",
     "shell.execute_reply": "2024-08-02T10:22:24.365411Z"
    },
    "papermill": {
     "duration": 0.21889,
     "end_time": "2024-08-02T10:22:24.369483",
     "exception": false,
     "start_time": "2024-08-02T10:22:24.150593",
     "status": "completed"
    },
    "tags": []
   },
   "outputs": [],
   "source": [
    "train_data=pd.read_csv(\"/kaggle/input/crime-cast-forecasting-crime-categories/train.csv\")"
   ]
  },
  {
   "cell_type": "code",
   "execution_count": 4,
   "id": "3d7c7627",
   "metadata": {
    "execution": {
     "iopub.execute_input": "2024-08-02T10:22:24.406281Z",
     "iopub.status.busy": "2024-08-02T10:22:24.405862Z",
     "iopub.status.idle": "2024-08-02T10:22:24.424648Z",
     "shell.execute_reply": "2024-08-02T10:22:24.423436Z"
    },
    "papermill": {
     "duration": 0.04067,
     "end_time": "2024-08-02T10:22:24.427239",
     "exception": false,
     "start_time": "2024-08-02T10:22:24.386569",
     "status": "completed"
    },
    "tags": []
   },
   "outputs": [
    {
     "data": {
      "text/plain": [
       "array(['IC', 'AO', 'AA', 'JA', 'JO'], dtype=object)"
      ]
     },
     "execution_count": 4,
     "metadata": {},
     "output_type": "execute_result"
    }
   ],
   "source": [
    "train_data.Status.unique()"
   ]
  },
  {
   "cell_type": "code",
   "execution_count": 5,
   "id": "7d8f87a4",
   "metadata": {
    "execution": {
     "iopub.execute_input": "2024-08-02T10:22:24.463334Z",
     "iopub.status.busy": "2024-08-02T10:22:24.462858Z",
     "iopub.status.idle": "2024-08-02T10:22:24.529803Z",
     "shell.execute_reply": "2024-08-02T10:22:24.528353Z"
    },
    "papermill": {
     "duration": 0.088645,
     "end_time": "2024-08-02T10:22:24.533098",
     "exception": false,
     "start_time": "2024-08-02T10:22:24.444453",
     "status": "completed"
    },
    "tags": []
   },
   "outputs": [
    {
     "data": {
      "text/html": [
       "<div>\n",
       "<style scoped>\n",
       "    .dataframe tbody tr th:only-of-type {\n",
       "        vertical-align: middle;\n",
       "    }\n",
       "\n",
       "    .dataframe tbody tr th {\n",
       "        vertical-align: top;\n",
       "    }\n",
       "\n",
       "    .dataframe thead th {\n",
       "        text-align: right;\n",
       "    }\n",
       "</style>\n",
       "<table border=\"1\" class=\"dataframe\">\n",
       "  <thead>\n",
       "    <tr style=\"text-align: right;\">\n",
       "      <th></th>\n",
       "      <th>Latitude</th>\n",
       "      <th>Longitude</th>\n",
       "      <th>Time_Occurred</th>\n",
       "      <th>Area_ID</th>\n",
       "      <th>Reporting_District_no</th>\n",
       "      <th>Part 1-2</th>\n",
       "      <th>Victim_Age</th>\n",
       "      <th>Premise_Code</th>\n",
       "      <th>Weapon_Used_Code</th>\n",
       "    </tr>\n",
       "  </thead>\n",
       "  <tbody>\n",
       "    <tr>\n",
       "      <th>count</th>\n",
       "      <td>20000.000000</td>\n",
       "      <td>20000.000000</td>\n",
       "      <td>20000.000000</td>\n",
       "      <td>20000.000000</td>\n",
       "      <td>20000.000000</td>\n",
       "      <td>20000.000000</td>\n",
       "      <td>20000.000000</td>\n",
       "      <td>20000.000000</td>\n",
       "      <td>7335.000000</td>\n",
       "    </tr>\n",
       "    <tr>\n",
       "      <th>mean</th>\n",
       "      <td>33.940704</td>\n",
       "      <td>-117.893072</td>\n",
       "      <td>1352.380350</td>\n",
       "      <td>10.834250</td>\n",
       "      <td>1129.599200</td>\n",
       "      <td>1.418150</td>\n",
       "      <td>30.135000</td>\n",
       "      <td>297.176950</td>\n",
       "      <td>366.405044</td>\n",
       "    </tr>\n",
       "    <tr>\n",
       "      <th>std</th>\n",
       "      <td>2.126810</td>\n",
       "      <td>7.377726</td>\n",
       "      <td>646.100291</td>\n",
       "      <td>6.033166</td>\n",
       "      <td>603.330519</td>\n",
       "      <td>0.493267</td>\n",
       "      <td>21.863645</td>\n",
       "      <td>212.007298</td>\n",
       "      <td>120.485687</td>\n",
       "    </tr>\n",
       "    <tr>\n",
       "      <th>min</th>\n",
       "      <td>0.000000</td>\n",
       "      <td>-118.663400</td>\n",
       "      <td>1.000000</td>\n",
       "      <td>1.000000</td>\n",
       "      <td>101.000000</td>\n",
       "      <td>1.000000</td>\n",
       "      <td>-2.000000</td>\n",
       "      <td>101.000000</td>\n",
       "      <td>101.000000</td>\n",
       "    </tr>\n",
       "    <tr>\n",
       "      <th>25%</th>\n",
       "      <td>34.009200</td>\n",
       "      <td>-118.429700</td>\n",
       "      <td>930.000000</td>\n",
       "      <td>6.000000</td>\n",
       "      <td>632.000000</td>\n",
       "      <td>1.000000</td>\n",
       "      <td>12.000000</td>\n",
       "      <td>101.000000</td>\n",
       "      <td>312.000000</td>\n",
       "    </tr>\n",
       "    <tr>\n",
       "      <th>50%</th>\n",
       "      <td>34.058700</td>\n",
       "      <td>-118.323000</td>\n",
       "      <td>1430.000000</td>\n",
       "      <td>11.000000</td>\n",
       "      <td>1162.000000</td>\n",
       "      <td>1.000000</td>\n",
       "      <td>31.000000</td>\n",
       "      <td>203.000000</td>\n",
       "      <td>400.000000</td>\n",
       "    </tr>\n",
       "    <tr>\n",
       "      <th>75%</th>\n",
       "      <td>34.165025</td>\n",
       "      <td>-118.274400</td>\n",
       "      <td>1900.000000</td>\n",
       "      <td>16.000000</td>\n",
       "      <td>1622.000000</td>\n",
       "      <td>2.000000</td>\n",
       "      <td>46.000000</td>\n",
       "      <td>501.000000</td>\n",
       "      <td>400.000000</td>\n",
       "    </tr>\n",
       "    <tr>\n",
       "      <th>max</th>\n",
       "      <td>34.328100</td>\n",
       "      <td>0.000000</td>\n",
       "      <td>2359.000000</td>\n",
       "      <td>21.000000</td>\n",
       "      <td>2197.000000</td>\n",
       "      <td>2.000000</td>\n",
       "      <td>99.000000</td>\n",
       "      <td>969.000000</td>\n",
       "      <td>515.000000</td>\n",
       "    </tr>\n",
       "  </tbody>\n",
       "</table>\n",
       "</div>"
      ],
      "text/plain": [
       "           Latitude     Longitude  Time_Occurred       Area_ID  \\\n",
       "count  20000.000000  20000.000000   20000.000000  20000.000000   \n",
       "mean      33.940704   -117.893072    1352.380350     10.834250   \n",
       "std        2.126810      7.377726     646.100291      6.033166   \n",
       "min        0.000000   -118.663400       1.000000      1.000000   \n",
       "25%       34.009200   -118.429700     930.000000      6.000000   \n",
       "50%       34.058700   -118.323000    1430.000000     11.000000   \n",
       "75%       34.165025   -118.274400    1900.000000     16.000000   \n",
       "max       34.328100      0.000000    2359.000000     21.000000   \n",
       "\n",
       "       Reporting_District_no      Part 1-2    Victim_Age  Premise_Code  \\\n",
       "count           20000.000000  20000.000000  20000.000000  20000.000000   \n",
       "mean             1129.599200      1.418150     30.135000    297.176950   \n",
       "std               603.330519      0.493267     21.863645    212.007298   \n",
       "min               101.000000      1.000000     -2.000000    101.000000   \n",
       "25%               632.000000      1.000000     12.000000    101.000000   \n",
       "50%              1162.000000      1.000000     31.000000    203.000000   \n",
       "75%              1622.000000      2.000000     46.000000    501.000000   \n",
       "max              2197.000000      2.000000     99.000000    969.000000   \n",
       "\n",
       "       Weapon_Used_Code  \n",
       "count       7335.000000  \n",
       "mean         366.405044  \n",
       "std          120.485687  \n",
       "min          101.000000  \n",
       "25%          312.000000  \n",
       "50%          400.000000  \n",
       "75%          400.000000  \n",
       "max          515.000000  "
      ]
     },
     "execution_count": 5,
     "metadata": {},
     "output_type": "execute_result"
    }
   ],
   "source": [
    "train_data.describe()"
   ]
  },
  {
   "cell_type": "code",
   "execution_count": 6,
   "id": "6c85a6c2",
   "metadata": {
    "execution": {
     "iopub.execute_input": "2024-08-02T10:22:24.580935Z",
     "iopub.status.busy": "2024-08-02T10:22:24.580490Z",
     "iopub.status.idle": "2024-08-02T10:22:24.588703Z",
     "shell.execute_reply": "2024-08-02T10:22:24.587591Z"
    },
    "papermill": {
     "duration": 0.030703,
     "end_time": "2024-08-02T10:22:24.591425",
     "exception": false,
     "start_time": "2024-08-02T10:22:24.560722",
     "status": "completed"
    },
    "tags": []
   },
   "outputs": [
    {
     "data": {
      "text/plain": [
       "Index(['Location', 'Cross_Street', 'Latitude', 'Longitude', 'Date_Reported',\n",
       "       'Date_Occurred', 'Time_Occurred', 'Area_ID', 'Area_Name',\n",
       "       'Reporting_District_no', 'Part 1-2', 'Modus_Operandi', 'Victim_Age',\n",
       "       'Victim_Sex', 'Victim_Descent', 'Premise_Code', 'Premise_Description',\n",
       "       'Weapon_Used_Code', 'Weapon_Description', 'Status',\n",
       "       'Status_Description', 'Crime_Category'],\n",
       "      dtype='object')"
      ]
     },
     "execution_count": 6,
     "metadata": {},
     "output_type": "execute_result"
    }
   ],
   "source": [
    "train_data.columns"
   ]
  },
  {
   "cell_type": "code",
   "execution_count": 7,
   "id": "5473c64e",
   "metadata": {
    "execution": {
     "iopub.execute_input": "2024-08-02T10:22:24.634250Z",
     "iopub.status.busy": "2024-08-02T10:22:24.632970Z",
     "iopub.status.idle": "2024-08-02T10:22:24.694544Z",
     "shell.execute_reply": "2024-08-02T10:22:24.691723Z"
    },
    "papermill": {
     "duration": 0.093802,
     "end_time": "2024-08-02T10:22:24.703261",
     "exception": false,
     "start_time": "2024-08-02T10:22:24.609459",
     "status": "completed"
    },
    "tags": []
   },
   "outputs": [
    {
     "name": "stdout",
     "output_type": "stream",
     "text": [
      "(20000, 22)\n",
      "<class 'pandas.core.frame.DataFrame'>\n",
      "RangeIndex: 20000 entries, 0 to 19999\n",
      "Data columns (total 22 columns):\n",
      " #   Column                 Non-Null Count  Dtype  \n",
      "---  ------                 --------------  -----  \n",
      " 0   Location               20000 non-null  object \n",
      " 1   Cross_Street           3448 non-null   object \n",
      " 2   Latitude               20000 non-null  float64\n",
      " 3   Longitude              20000 non-null  float64\n",
      " 4   Date_Reported          20000 non-null  object \n",
      " 5   Date_Occurred          20000 non-null  object \n",
      " 6   Time_Occurred          20000 non-null  float64\n",
      " 7   Area_ID                20000 non-null  float64\n",
      " 8   Area_Name              20000 non-null  object \n",
      " 9   Reporting_District_no  20000 non-null  float64\n",
      " 10  Part 1-2               20000 non-null  float64\n",
      " 11  Modus_Operandi         17259 non-null  object \n",
      " 12  Victim_Age             20000 non-null  float64\n",
      " 13  Victim_Sex             17376 non-null  object \n",
      " 14  Victim_Descent         17376 non-null  object \n",
      " 15  Premise_Code           20000 non-null  float64\n",
      " 16  Premise_Description    19995 non-null  object \n",
      " 17  Weapon_Used_Code       7335 non-null   float64\n",
      " 18  Weapon_Description     7335 non-null   object \n",
      " 19  Status                 20000 non-null  object \n",
      " 20  Status_Description     20000 non-null  object \n",
      " 21  Crime_Category         20000 non-null  object \n",
      "dtypes: float64(9), object(13)\n",
      "memory usage: 3.4+ MB\n",
      "None\n"
     ]
    }
   ],
   "source": [
    "print(train_data.shape)\n",
    "print(train_data.info())"
   ]
  },
  {
   "cell_type": "code",
   "execution_count": 8,
   "id": "712e71fa",
   "metadata": {
    "execution": {
     "iopub.execute_input": "2024-08-02T10:22:24.758035Z",
     "iopub.status.busy": "2024-08-02T10:22:24.757482Z",
     "iopub.status.idle": "2024-08-02T10:22:24.800613Z",
     "shell.execute_reply": "2024-08-02T10:22:24.799385Z"
    },
    "papermill": {
     "duration": 0.075819,
     "end_time": "2024-08-02T10:22:24.803437",
     "exception": false,
     "start_time": "2024-08-02T10:22:24.727618",
     "status": "completed"
    },
    "tags": []
   },
   "outputs": [
    {
     "data": {
      "text/html": [
       "<div>\n",
       "<style scoped>\n",
       "    .dataframe tbody tr th:only-of-type {\n",
       "        vertical-align: middle;\n",
       "    }\n",
       "\n",
       "    .dataframe tbody tr th {\n",
       "        vertical-align: top;\n",
       "    }\n",
       "\n",
       "    .dataframe thead th {\n",
       "        text-align: right;\n",
       "    }\n",
       "</style>\n",
       "<table border=\"1\" class=\"dataframe\">\n",
       "  <thead>\n",
       "    <tr style=\"text-align: right;\">\n",
       "      <th></th>\n",
       "      <th>Location</th>\n",
       "      <th>Cross_Street</th>\n",
       "      <th>Latitude</th>\n",
       "      <th>Longitude</th>\n",
       "      <th>Date_Reported</th>\n",
       "      <th>Date_Occurred</th>\n",
       "      <th>Time_Occurred</th>\n",
       "      <th>Area_ID</th>\n",
       "      <th>Area_Name</th>\n",
       "      <th>Reporting_District_no</th>\n",
       "      <th>...</th>\n",
       "      <th>Victim_Age</th>\n",
       "      <th>Victim_Sex</th>\n",
       "      <th>Victim_Descent</th>\n",
       "      <th>Premise_Code</th>\n",
       "      <th>Premise_Description</th>\n",
       "      <th>Weapon_Used_Code</th>\n",
       "      <th>Weapon_Description</th>\n",
       "      <th>Status</th>\n",
       "      <th>Status_Description</th>\n",
       "      <th>Crime_Category</th>\n",
       "    </tr>\n",
       "  </thead>\n",
       "  <tbody>\n",
       "    <tr>\n",
       "      <th>0</th>\n",
       "      <td>4500    CARPENTER                    AV</td>\n",
       "      <td>NaN</td>\n",
       "      <td>34.1522</td>\n",
       "      <td>-118.3910</td>\n",
       "      <td>03/09/2020 12:00:00 AM</td>\n",
       "      <td>03/06/2020 12:00:00 AM</td>\n",
       "      <td>1800.0</td>\n",
       "      <td>15.0</td>\n",
       "      <td>N Hollywood</td>\n",
       "      <td>1563.0</td>\n",
       "      <td>...</td>\n",
       "      <td>75.0</td>\n",
       "      <td>M</td>\n",
       "      <td>W</td>\n",
       "      <td>101.0</td>\n",
       "      <td>STREET</td>\n",
       "      <td>NaN</td>\n",
       "      <td>NaN</td>\n",
       "      <td>IC</td>\n",
       "      <td>Invest Cont</td>\n",
       "      <td>Property Crimes</td>\n",
       "    </tr>\n",
       "    <tr>\n",
       "      <th>1</th>\n",
       "      <td>45TH                         ST</td>\n",
       "      <td>ALAMEDA                      ST</td>\n",
       "      <td>34.0028</td>\n",
       "      <td>-118.2391</td>\n",
       "      <td>02/27/2020 12:00:00 AM</td>\n",
       "      <td>02/27/2020 12:00:00 AM</td>\n",
       "      <td>1345.0</td>\n",
       "      <td>13.0</td>\n",
       "      <td>Newton</td>\n",
       "      <td>1367.0</td>\n",
       "      <td>...</td>\n",
       "      <td>41.0</td>\n",
       "      <td>M</td>\n",
       "      <td>H</td>\n",
       "      <td>216.0</td>\n",
       "      <td>SWAP MEET</td>\n",
       "      <td>400.0</td>\n",
       "      <td>STRONG-ARM (HANDS, FIST, FEET OR BODILY FORCE)</td>\n",
       "      <td>IC</td>\n",
       "      <td>Invest Cont</td>\n",
       "      <td>Property Crimes</td>\n",
       "    </tr>\n",
       "    <tr>\n",
       "      <th>2</th>\n",
       "      <td>600 E  MARTIN LUTHER KING JR        BL</td>\n",
       "      <td>NaN</td>\n",
       "      <td>34.0111</td>\n",
       "      <td>-118.2653</td>\n",
       "      <td>08/21/2020 12:00:00 AM</td>\n",
       "      <td>08/21/2020 12:00:00 AM</td>\n",
       "      <td>605.0</td>\n",
       "      <td>13.0</td>\n",
       "      <td>Newton</td>\n",
       "      <td>1343.0</td>\n",
       "      <td>...</td>\n",
       "      <td>67.0</td>\n",
       "      <td>M</td>\n",
       "      <td>B</td>\n",
       "      <td>501.0</td>\n",
       "      <td>SINGLE FAMILY DWELLING</td>\n",
       "      <td>NaN</td>\n",
       "      <td>NaN</td>\n",
       "      <td>IC</td>\n",
       "      <td>Invest Cont</td>\n",
       "      <td>Property Crimes</td>\n",
       "    </tr>\n",
       "    <tr>\n",
       "      <th>3</th>\n",
       "      <td>14900    ORO GRANDE                   ST</td>\n",
       "      <td>NaN</td>\n",
       "      <td>34.2953</td>\n",
       "      <td>-118.4590</td>\n",
       "      <td>11/08/2020 12:00:00 AM</td>\n",
       "      <td>11/06/2020 12:00:00 AM</td>\n",
       "      <td>1800.0</td>\n",
       "      <td>19.0</td>\n",
       "      <td>Mission</td>\n",
       "      <td>1924.0</td>\n",
       "      <td>...</td>\n",
       "      <td>61.0</td>\n",
       "      <td>M</td>\n",
       "      <td>H</td>\n",
       "      <td>101.0</td>\n",
       "      <td>STREET</td>\n",
       "      <td>NaN</td>\n",
       "      <td>NaN</td>\n",
       "      <td>IC</td>\n",
       "      <td>Invest Cont</td>\n",
       "      <td>Property Crimes</td>\n",
       "    </tr>\n",
       "    <tr>\n",
       "      <th>4</th>\n",
       "      <td>7100 S  VERMONT                      AV</td>\n",
       "      <td>NaN</td>\n",
       "      <td>33.9787</td>\n",
       "      <td>-118.2918</td>\n",
       "      <td>02/25/2020 12:00:00 AM</td>\n",
       "      <td>02/25/2020 12:00:00 AM</td>\n",
       "      <td>1130.0</td>\n",
       "      <td>12.0</td>\n",
       "      <td>77th Street</td>\n",
       "      <td>1245.0</td>\n",
       "      <td>...</td>\n",
       "      <td>0.0</td>\n",
       "      <td>X</td>\n",
       "      <td>X</td>\n",
       "      <td>401.0</td>\n",
       "      <td>MINI-MART</td>\n",
       "      <td>400.0</td>\n",
       "      <td>STRONG-ARM (HANDS, FIST, FEET OR BODILY FORCE)</td>\n",
       "      <td>IC</td>\n",
       "      <td>Invest Cont</td>\n",
       "      <td>Property Crimes</td>\n",
       "    </tr>\n",
       "  </tbody>\n",
       "</table>\n",
       "<p>5 rows × 22 columns</p>\n",
       "</div>"
      ],
      "text/plain": [
       "                                   Location                     Cross_Street  \\\n",
       "0   4500    CARPENTER                    AV                              NaN   \n",
       "1           45TH                         ST  ALAMEDA                      ST   \n",
       "2    600 E  MARTIN LUTHER KING JR        BL                              NaN   \n",
       "3  14900    ORO GRANDE                   ST                              NaN   \n",
       "4   7100 S  VERMONT                      AV                              NaN   \n",
       "\n",
       "   Latitude  Longitude           Date_Reported           Date_Occurred  \\\n",
       "0   34.1522  -118.3910  03/09/2020 12:00:00 AM  03/06/2020 12:00:00 AM   \n",
       "1   34.0028  -118.2391  02/27/2020 12:00:00 AM  02/27/2020 12:00:00 AM   \n",
       "2   34.0111  -118.2653  08/21/2020 12:00:00 AM  08/21/2020 12:00:00 AM   \n",
       "3   34.2953  -118.4590  11/08/2020 12:00:00 AM  11/06/2020 12:00:00 AM   \n",
       "4   33.9787  -118.2918  02/25/2020 12:00:00 AM  02/25/2020 12:00:00 AM   \n",
       "\n",
       "   Time_Occurred  Area_ID    Area_Name  Reporting_District_no  ...  \\\n",
       "0         1800.0     15.0  N Hollywood                 1563.0  ...   \n",
       "1         1345.0     13.0       Newton                 1367.0  ...   \n",
       "2          605.0     13.0       Newton                 1343.0  ...   \n",
       "3         1800.0     19.0      Mission                 1924.0  ...   \n",
       "4         1130.0     12.0  77th Street                 1245.0  ...   \n",
       "\n",
       "   Victim_Age Victim_Sex  Victim_Descent Premise_Code     Premise_Description  \\\n",
       "0        75.0          M               W        101.0                  STREET   \n",
       "1        41.0          M               H        216.0               SWAP MEET   \n",
       "2        67.0          M               B        501.0  SINGLE FAMILY DWELLING   \n",
       "3        61.0          M               H        101.0                  STREET   \n",
       "4         0.0          X               X        401.0               MINI-MART   \n",
       "\n",
       "   Weapon_Used_Code                              Weapon_Description  Status  \\\n",
       "0               NaN                                             NaN      IC   \n",
       "1             400.0  STRONG-ARM (HANDS, FIST, FEET OR BODILY FORCE)      IC   \n",
       "2               NaN                                             NaN      IC   \n",
       "3               NaN                                             NaN      IC   \n",
       "4             400.0  STRONG-ARM (HANDS, FIST, FEET OR BODILY FORCE)      IC   \n",
       "\n",
       "  Status_Description   Crime_Category  \n",
       "0        Invest Cont  Property Crimes  \n",
       "1        Invest Cont  Property Crimes  \n",
       "2        Invest Cont  Property Crimes  \n",
       "3        Invest Cont  Property Crimes  \n",
       "4        Invest Cont  Property Crimes  \n",
       "\n",
       "[5 rows x 22 columns]"
      ]
     },
     "execution_count": 8,
     "metadata": {},
     "output_type": "execute_result"
    }
   ],
   "source": [
    "train_data.head()"
   ]
  },
  {
   "cell_type": "code",
   "execution_count": 9,
   "id": "7570706f",
   "metadata": {
    "execution": {
     "iopub.execute_input": "2024-08-02T10:22:24.852180Z",
     "iopub.status.busy": "2024-08-02T10:22:24.851386Z",
     "iopub.status.idle": "2024-08-02T10:22:24.863236Z",
     "shell.execute_reply": "2024-08-02T10:22:24.861908Z"
    },
    "papermill": {
     "duration": 0.039934,
     "end_time": "2024-08-02T10:22:24.866257",
     "exception": false,
     "start_time": "2024-08-02T10:22:24.826323",
     "status": "completed"
    },
    "tags": []
   },
   "outputs": [
    {
     "data": {
      "text/plain": [
       "array([1., 2.])"
      ]
     },
     "execution_count": 9,
     "metadata": {},
     "output_type": "execute_result"
    }
   ],
   "source": [
    "train_data['Part 1-2'].unique()"
   ]
  },
  {
   "cell_type": "code",
   "execution_count": 10,
   "id": "1e0748e3",
   "metadata": {
    "execution": {
     "iopub.execute_input": "2024-08-02T10:22:24.914134Z",
     "iopub.status.busy": "2024-08-02T10:22:24.913698Z",
     "iopub.status.idle": "2024-08-02T10:22:24.950022Z",
     "shell.execute_reply": "2024-08-02T10:22:24.948786Z"
    },
    "papermill": {
     "duration": 0.063074,
     "end_time": "2024-08-02T10:22:24.952863",
     "exception": false,
     "start_time": "2024-08-02T10:22:24.889789",
     "status": "completed"
    },
    "tags": []
   },
   "outputs": [
    {
     "data": {
      "text/plain": [
       "Location                     0\n",
       "Cross_Street             16552\n",
       "Latitude                     0\n",
       "Longitude                    0\n",
       "Date_Reported                0\n",
       "Date_Occurred                0\n",
       "Time_Occurred                0\n",
       "Area_ID                      0\n",
       "Area_Name                    0\n",
       "Reporting_District_no        0\n",
       "Part 1-2                     0\n",
       "Modus_Operandi            2741\n",
       "Victim_Age                   0\n",
       "Victim_Sex                2624\n",
       "Victim_Descent            2624\n",
       "Premise_Code                 0\n",
       "Premise_Description          5\n",
       "Weapon_Used_Code         12665\n",
       "Weapon_Description       12665\n",
       "Status                       0\n",
       "Status_Description           0\n",
       "Crime_Category               0\n",
       "dtype: int64"
      ]
     },
     "execution_count": 10,
     "metadata": {},
     "output_type": "execute_result"
    }
   ],
   "source": [
    "train_data.isna().sum()"
   ]
  },
  {
   "cell_type": "code",
   "execution_count": 11,
   "id": "2a274249",
   "metadata": {
    "execution": {
     "iopub.execute_input": "2024-08-02T10:22:24.993476Z",
     "iopub.status.busy": "2024-08-02T10:22:24.993048Z",
     "iopub.status.idle": "2024-08-02T10:22:25.190887Z",
     "shell.execute_reply": "2024-08-02T10:22:25.189676Z"
    },
    "papermill": {
     "duration": 0.22127,
     "end_time": "2024-08-02T10:22:25.193647",
     "exception": false,
     "start_time": "2024-08-02T10:22:24.972377",
     "status": "completed"
    },
    "tags": []
   },
   "outputs": [
    {
     "name": "stderr",
     "output_type": "stream",
     "text": [
      "/tmp/ipykernel_17/268340801.py:2: UserWarning: Could not infer format, so each element will be parsed individually, falling back to `dateutil`. To ensure parsing is consistent and as-expected, please specify a format.\n",
      "  train_data['Date_Reported'] = pd.to_datetime(train_data['Date_Reported'])\n",
      "/tmp/ipykernel_17/268340801.py:3: UserWarning: Could not infer format, so each element will be parsed individually, falling back to `dateutil`. To ensure parsing is consistent and as-expected, please specify a format.\n",
      "  train_data['Date_Occurred'] = pd.to_datetime(train_data['Date_Occurred'])\n"
     ]
    }
   ],
   "source": [
    "# Convert date columns to datetime\n",
    "train_data['Date_Reported'] = pd.to_datetime(train_data['Date_Reported'])\n",
    "train_data['Date_Occurred'] = pd.to_datetime(train_data['Date_Occurred'])\n",
    "# Extract features from date columns\n",
    "train_data['Year_Occurred'] = train_data['Date_Occurred'].dt.year\n",
    "train_data['Month_Occurred'] = train_data['Date_Occurred'].dt.month\n",
    "train_data['Day_Occurred'] = train_data['Date_Occurred'].dt.day\n",
    "train_data['Hour_Occurred'] = train_data['Time_Occurred'] // 100"
   ]
  },
  {
   "cell_type": "code",
   "execution_count": 12,
   "id": "e373f0dd",
   "metadata": {
    "execution": {
     "iopub.execute_input": "2024-08-02T10:22:25.233950Z",
     "iopub.status.busy": "2024-08-02T10:22:25.233493Z",
     "iopub.status.idle": "2024-08-02T10:22:25.245827Z",
     "shell.execute_reply": "2024-08-02T10:22:25.244543Z"
    },
    "papermill": {
     "duration": 0.035538,
     "end_time": "2024-08-02T10:22:25.248697",
     "exception": false,
     "start_time": "2024-08-02T10:22:25.213159",
     "status": "completed"
    },
    "tags": []
   },
   "outputs": [],
   "source": [
    "x=train_data.drop(['Crime_Category','Status_Description','Date_Reported','Time_Occurred', 'Date_Occurred'],axis=1)\n",
    "y=train_data['Crime_Category']"
   ]
  },
  {
   "cell_type": "code",
   "execution_count": 13,
   "id": "74e6161a",
   "metadata": {
    "execution": {
     "iopub.execute_input": "2024-08-02T10:22:25.288665Z",
     "iopub.status.busy": "2024-08-02T10:22:25.288208Z",
     "iopub.status.idle": "2024-08-02T10:22:25.293422Z",
     "shell.execute_reply": "2024-08-02T10:22:25.292074Z"
    },
    "papermill": {
     "duration": 0.028539,
     "end_time": "2024-08-02T10:22:25.296124",
     "exception": false,
     "start_time": "2024-08-02T10:22:25.267585",
     "status": "completed"
    },
    "tags": []
   },
   "outputs": [],
   "source": [
    "#x=train_data.drop(['Crime_Category',axis=1)\n",
    "#y=train_data['Crime_Category']"
   ]
  },
  {
   "cell_type": "code",
   "execution_count": 14,
   "id": "34895ff6",
   "metadata": {
    "execution": {
     "iopub.execute_input": "2024-08-02T10:22:25.336741Z",
     "iopub.status.busy": "2024-08-02T10:22:25.336351Z",
     "iopub.status.idle": "2024-08-02T10:22:25.342089Z",
     "shell.execute_reply": "2024-08-02T10:22:25.340742Z"
    },
    "papermill": {
     "duration": 0.029204,
     "end_time": "2024-08-02T10:22:25.344835",
     "exception": false,
     "start_time": "2024-08-02T10:22:25.315631",
     "status": "completed"
    },
    "tags": []
   },
   "outputs": [],
   "source": [
    "#x.columns"
   ]
  },
  {
   "cell_type": "code",
   "execution_count": 15,
   "id": "58851351",
   "metadata": {
    "execution": {
     "iopub.execute_input": "2024-08-02T10:22:25.384933Z",
     "iopub.status.busy": "2024-08-02T10:22:25.384482Z",
     "iopub.status.idle": "2024-08-02T10:22:25.406462Z",
     "shell.execute_reply": "2024-08-02T10:22:25.405362Z"
    },
    "papermill": {
     "duration": 0.045281,
     "end_time": "2024-08-02T10:22:25.409150",
     "exception": false,
     "start_time": "2024-08-02T10:22:25.363869",
     "status": "completed"
    },
    "tags": []
   },
   "outputs": [],
   "source": [
    "from sklearn.model_selection import train_test_split\n",
    "x_train,x_val,y_train,y_val=train_test_split(x,y,test_size=0.2,random_state=42)"
   ]
  },
  {
   "cell_type": "code",
   "execution_count": 16,
   "id": "566fa36c",
   "metadata": {
    "execution": {
     "iopub.execute_input": "2024-08-02T10:22:25.448771Z",
     "iopub.status.busy": "2024-08-02T10:22:25.448362Z",
     "iopub.status.idle": "2024-08-02T10:22:25.455944Z",
     "shell.execute_reply": "2024-08-02T10:22:25.454637Z"
    },
    "papermill": {
     "duration": 0.030855,
     "end_time": "2024-08-02T10:22:25.458873",
     "exception": false,
     "start_time": "2024-08-02T10:22:25.428018",
     "status": "completed"
    },
    "tags": []
   },
   "outputs": [
    {
     "data": {
      "text/plain": [
       "\"\\nfrom sklearn.dummy import DummyClassifier\\nmodel=DummyClassifier(strategy='most_frequent')\\nmodel.fit(x_train,y_train)\\n\""
      ]
     },
     "execution_count": 16,
     "metadata": {},
     "output_type": "execute_result"
    }
   ],
   "source": [
    "#DummyClassifier\n",
    "'''\n",
    "from sklearn.dummy import DummyClassifier\n",
    "model=DummyClassifier(strategy='most_frequent')\n",
    "model.fit(x_train,y_train)\n",
    "'''"
   ]
  },
  {
   "cell_type": "code",
   "execution_count": 17,
   "id": "86e20c5b",
   "metadata": {
    "execution": {
     "iopub.execute_input": "2024-08-02T10:22:25.499965Z",
     "iopub.status.busy": "2024-08-02T10:22:25.499568Z",
     "iopub.status.idle": "2024-08-02T10:22:25.530210Z",
     "shell.execute_reply": "2024-08-02T10:22:25.529128Z"
    },
    "papermill": {
     "duration": 0.054717,
     "end_time": "2024-08-02T10:22:25.533020",
     "exception": false,
     "start_time": "2024-08-02T10:22:25.478303",
     "status": "completed"
    },
    "tags": []
   },
   "outputs": [],
   "source": [
    "x_train.replace('?',np.nan,inplace=True)\n",
    "x_train.replace({'Victim_Age':[0,-1,-2]},np.nan,inplace=True)"
   ]
  },
  {
   "cell_type": "code",
   "execution_count": 18,
   "id": "6ec4260d",
   "metadata": {
    "execution": {
     "iopub.execute_input": "2024-08-02T10:22:25.575111Z",
     "iopub.status.busy": "2024-08-02T10:22:25.574673Z",
     "iopub.status.idle": "2024-08-02T10:22:28.775049Z",
     "shell.execute_reply": "2024-08-02T10:22:28.773880Z"
    },
    "papermill": {
     "duration": 3.224163,
     "end_time": "2024-08-02T10:22:28.778174",
     "exception": false,
     "start_time": "2024-08-02T10:22:25.554011",
     "status": "completed"
    },
    "tags": []
   },
   "outputs": [
    {
     "data": {
      "image/png": "[encoded data removed]",
      "text/plain": [
       "<Figure size 1200x800 with 12 Axes>"
      ]
     },
     "metadata": {},
     "output_type": "display_data"
    }
   ],
   "source": [
    "x_train.hist(bins=50, figsize=(12,8))\n",
    "plt.show() "
   ]
  },
  {
   "cell_type": "code",
   "execution_count": 19,
   "id": "8da6e32c",
   "metadata": {
    "execution": {
     "iopub.execute_input": "2024-08-02T10:22:28.821797Z",
     "iopub.status.busy": "2024-08-02T10:22:28.821341Z",
     "iopub.status.idle": "2024-08-02T10:22:28.831653Z",
     "shell.execute_reply": "2024-08-02T10:22:28.830392Z"
    },
    "papermill": {
     "duration": 0.035491,
     "end_time": "2024-08-02T10:22:28.834387",
     "exception": false,
     "start_time": "2024-08-02T10:22:28.798896",
     "status": "completed"
    },
    "tags": []
   },
   "outputs": [
    {
     "data": {
      "text/plain": [
       "5894                    0337 0334 0344\n",
       "3728                         0444 0913\n",
       "8958                         0344 1606\n",
       "7671               1822 0344 0329 1300\n",
       "5999                              0344\n",
       "                     ...              \n",
       "11284         0913 2000 1243 0444 0429\n",
       "11964                              NaN\n",
       "5390                               NaN\n",
       "860      2000 0913 1813 1821 0416 0444\n",
       "15795                              NaN\n",
       "Name: Modus_Operandi, Length: 16000, dtype: object"
      ]
     },
     "execution_count": 19,
     "metadata": {},
     "output_type": "execute_result"
    }
   ],
   "source": [
    "x_train['Modus_Operandi']"
   ]
  },
  {
   "cell_type": "code",
   "execution_count": 20,
   "id": "aedc9848",
   "metadata": {
    "execution": {
     "iopub.execute_input": "2024-08-02T10:22:28.879351Z",
     "iopub.status.busy": "2024-08-02T10:22:28.878878Z",
     "iopub.status.idle": "2024-08-02T10:22:28.886949Z",
     "shell.execute_reply": "2024-08-02T10:22:28.885671Z"
    },
    "papermill": {
     "duration": 0.033825,
     "end_time": "2024-08-02T10:22:28.889689",
     "exception": false,
     "start_time": "2024-08-02T10:22:28.855864",
     "status": "completed"
    },
    "tags": []
   },
   "outputs": [
    {
     "data": {
      "text/plain": [
       "\"x_train['Modus_Operandi']\\nmy_list4=[('most-frequent',SimpleImputer(strategy='most_frequent'),['Modus_Operandi'])]\\ncolumn_trans=ColumnTransformer(transformers=my_list4,remainder='passthrough',verbose_feature_names_out=False).set_output(transform='pandas')\\n#enc1=LabelEncoder()\\n#x_train['Modus_Operandi']=enc1.fit_transform(x_train['Modus_Operandi'])\\nfrom sklearn.preprocessing import MultiLabelBinarizer\\nmlb = MultiLabelBinarizer()\\nx_train['Modus_Operandi']=mlb.fit_transform(x_train['Modus_Operandi'])\\n\""
      ]
     },
     "execution_count": 20,
     "metadata": {},
     "output_type": "execute_result"
    }
   ],
   "source": [
    "'''x_train['Modus_Operandi']\n",
    "my_list4=[('most-frequent',SimpleImputer(strategy='most_frequent'),['Modus_Operandi'])]\n",
    "column_trans=ColumnTransformer(transformers=my_list4,remainder='passthrough',verbose_feature_names_out=False).set_output(transform='pandas')\n",
    "#enc1=LabelEncoder()\n",
    "#x_train['Modus_Operandi']=enc1.fit_transform(x_train['Modus_Operandi'])\n",
    "from sklearn.preprocessing import MultiLabelBinarizer\n",
    "mlb = MultiLabelBinarizer()\n",
    "x_train['Modus_Operandi']=mlb.fit_transform(x_train['Modus_Operandi'])\n",
    "'''"
   ]
  },
  {
   "cell_type": "code",
   "execution_count": 21,
   "id": "986350a9",
   "metadata": {
    "execution": {
     "iopub.execute_input": "2024-08-02T10:22:28.935441Z",
     "iopub.status.busy": "2024-08-02T10:22:28.935007Z",
     "iopub.status.idle": "2024-08-02T10:22:28.944212Z",
     "shell.execute_reply": "2024-08-02T10:22:28.942854Z"
    },
    "papermill": {
     "duration": 0.035484,
     "end_time": "2024-08-02T10:22:28.946674",
     "exception": false,
     "start_time": "2024-08-02T10:22:28.911190",
     "status": "completed"
    },
    "tags": []
   },
   "outputs": [
    {
     "data": {
      "text/plain": [
       "\"my_list=[('mean',SimpleImputer(strategy='mean'),['Latitude', 'Longitude','Area_ID',\\n       'Reporting_District_no', 'Part 1-2', 'Victim_Age', 'Premise_Code',\\n       'Weapon_Used_Code'])]\\nct1=ColumnTransformer(transformers=my_list,remainder='passthrough',verbose_feature_names_out=False).set_output(transform='pandas')\\nsimple=[('most_frequent',SimpleImputer(strategy='most_frequent'),['Location','Cross_Street','Area_Name','Victim_Sex','Victim_Descent','Premise_Description',\\n                                                                  'Weapon_Description','Status'])]\\nct2=ColumnTransformer(transformers=simple,remainder='passthrough',verbose_feature_names_out=False).set_output(transform='pandas')\\nmy_list3=[('std',StandardScaler(),['Latitude', 'Longitude', 'Hour_Occurred', 'Area_ID','Year_Occurred','Month_Occurred','Day_Occurred',\\n       'Reporting_District_no', 'Part 1-2', 'Victim_Age', 'Premise_Code',\\n       'Weapon_Used_Code']),\\n        ('ohe',OneHotEncoder( handle_unknown='ignore',sparse_output=False),['Location','Cross_Street','Area_Name','Victim_Sex','Victim_Descent','Premise_Description','Weapon_Description','Status'])]\\nct3=ColumnTransformer(transformers=my_list3,verbose_feature_names_out=False)\\n\""
      ]
     },
     "execution_count": 21,
     "metadata": {},
     "output_type": "execute_result"
    }
   ],
   "source": [
    "'''my_list=[('mean',SimpleImputer(strategy='mean'),['Latitude', 'Longitude','Area_ID',\n",
    "       'Reporting_District_no', 'Part 1-2', 'Victim_Age', 'Premise_Code',\n",
    "       'Weapon_Used_Code'])]\n",
    "ct1=ColumnTransformer(transformers=my_list,remainder='passthrough',verbose_feature_names_out=False).set_output(transform='pandas')\n",
    "simple=[('most_frequent',SimpleImputer(strategy='most_frequent'),['Location','Cross_Street','Area_Name','Victim_Sex','Victim_Descent','Premise_Description',\n",
    "                                                                  'Weapon_Description','Status'])]\n",
    "ct2=ColumnTransformer(transformers=simple,remainder='passthrough',verbose_feature_names_out=False).set_output(transform='pandas')\n",
    "my_list3=[('std',StandardScaler(),['Latitude', 'Longitude', 'Hour_Occurred', 'Area_ID','Year_Occurred','Month_Occurred','Day_Occurred',\n",
    "       'Reporting_District_no', 'Part 1-2', 'Victim_Age', 'Premise_Code',\n",
    "       'Weapon_Used_Code']),\n",
    "        ('ohe',OneHotEncoder( handle_unknown='ignore',sparse_output=False),['Location','Cross_Street','Area_Name','Victim_Sex','Victim_Descent','Premise_Description','Weapon_Description','Status'])]\n",
    "ct3=ColumnTransformer(transformers=my_list3,verbose_feature_names_out=False)\n",
    "'''"
   ]
  },
  {
   "cell_type": "code",
   "execution_count": 22,
   "id": "dbd55b6e",
   "metadata": {
    "execution": {
     "iopub.execute_input": "2024-08-02T10:22:28.991728Z",
     "iopub.status.busy": "2024-08-02T10:22:28.991296Z",
     "iopub.status.idle": "2024-08-02T10:22:29.021822Z",
     "shell.execute_reply": "2024-08-02T10:22:29.020521Z"
    },
    "papermill": {
     "duration": 0.056246,
     "end_time": "2024-08-02T10:22:29.024818",
     "exception": false,
     "start_time": "2024-08-02T10:22:28.968572",
     "status": "completed"
    },
    "tags": []
   },
   "outputs": [
    {
     "name": "stdout",
     "output_type": "stream",
     "text": [
      "<class 'pandas.core.frame.DataFrame'>\n",
      "Index: 16000 entries, 5894 to 15795\n",
      "Data columns (total 21 columns):\n",
      " #   Column                 Non-Null Count  Dtype  \n",
      "---  ------                 --------------  -----  \n",
      " 0   Location               16000 non-null  object \n",
      " 1   Cross_Street           2741 non-null   object \n",
      " 2   Latitude               16000 non-null  float64\n",
      " 3   Longitude              16000 non-null  float64\n",
      " 4   Area_ID                16000 non-null  float64\n",
      " 5   Area_Name              16000 non-null  object \n",
      " 6   Reporting_District_no  16000 non-null  float64\n",
      " 7   Part 1-2               16000 non-null  float64\n",
      " 8   Modus_Operandi         13770 non-null  object \n",
      " 9   Victim_Age             12088 non-null  float64\n",
      " 10  Victim_Sex             13865 non-null  object \n",
      " 11  Victim_Descent         13865 non-null  object \n",
      " 12  Premise_Code           16000 non-null  float64\n",
      " 13  Premise_Description    15996 non-null  object \n",
      " 14  Weapon_Used_Code       5832 non-null   float64\n",
      " 15  Weapon_Description     5832 non-null   object \n",
      " 16  Status                 16000 non-null  object \n",
      " 17  Year_Occurred          16000 non-null  int32  \n",
      " 18  Month_Occurred         16000 non-null  int32  \n",
      " 19  Day_Occurred           16000 non-null  int32  \n",
      " 20  Hour_Occurred          16000 non-null  float64\n",
      "dtypes: float64(9), int32(3), object(9)\n",
      "memory usage: 2.5+ MB\n"
     ]
    }
   ],
   "source": [
    "x_train.columns\n",
    "x_train.info()"
   ]
  },
  {
   "cell_type": "code",
   "execution_count": 23,
   "id": "ecc68079",
   "metadata": {
    "execution": {
     "iopub.execute_input": "2024-08-02T10:22:29.134925Z",
     "iopub.status.busy": "2024-08-02T10:22:29.134475Z",
     "iopub.status.idle": "2024-08-02T10:22:29.144956Z",
     "shell.execute_reply": "2024-08-02T10:22:29.143379Z"
    },
    "papermill": {
     "duration": 0.036498,
     "end_time": "2024-08-02T10:22:29.147591",
     "exception": false,
     "start_time": "2024-08-02T10:22:29.111093",
     "status": "completed"
    },
    "tags": []
   },
   "outputs": [],
   "source": [
    "my_list=[('mean',SimpleImputer(strategy='mean'),['Latitude', 'Longitude', 'Hour_Occurred', 'Area_ID',\n",
    "       'Part 1-2', 'Victim_Age', 'Premise_Code',\n",
    "       'Weapon_Used_Code'])]\n",
    "ct1=ColumnTransformer(transformers=my_list,remainder='passthrough',verbose_feature_names_out=False).set_output(transform='pandas')\n",
    "simple=[('most_frequent',SimpleImputer(strategy='most_frequent'),['Location','Cross_Street','Area_Name','Modus_Operandi','Victim_Sex','Victim_Descent','Premise_Description',\n",
    "                                                                  'Weapon_Description','Status'])]\n",
    "ct2=ColumnTransformer(transformers=simple,remainder='passthrough',verbose_feature_names_out=False).set_output(transform='pandas')\n",
    "my_list3=[('std',StandardScaler(),['Latitude', 'Longitude','Hour_Occurred','Area_ID','Year_Occurred','Month_Occurred','Day_Occurred',\n",
    "       'Part 1-2', 'Victim_Age', 'Premise_Code','Reporting_District_no',\n",
    "       'Weapon_Used_Code']),\n",
    "        ('ohe',OneHotEncoder( handle_unknown='ignore',sparse_output=False),['Location','Cross_Street','Area_Name','Modus_Operandi','Victim_Sex','Victim_Descent','Premise_Description','Weapon_Description','Status'])]\n",
    "ct3=ColumnTransformer(transformers=my_list3,verbose_feature_names_out=False)"
   ]
  },
  {
   "cell_type": "code",
   "execution_count": 24,
   "id": "62690065",
   "metadata": {
    "execution": {
     "iopub.execute_input": "2024-08-02T10:22:29.193204Z",
     "iopub.status.busy": "2024-08-02T10:22:29.192770Z",
     "iopub.status.idle": "2024-08-02T10:22:29.201380Z",
     "shell.execute_reply": "2024-08-02T10:22:29.200194Z"
    },
    "papermill": {
     "duration": 0.034726,
     "end_time": "2024-08-02T10:22:29.204036",
     "exception": false,
     "start_time": "2024-08-02T10:22:29.169310",
     "status": "completed"
    },
    "tags": []
   },
   "outputs": [
    {
     "data": {
      "text/plain": [
       "\"my_list=[('mean',SimpleImputer(strategy='mean'),['Latitude', 'Longitude', 'Time_Occurred', 'Area_ID',\\n       'Reporting_District_no', 'Part 1-2', 'Victim_Age', 'Premise_Code',\\n       'Weapon_Used_Code'])]\\nct1=ColumnTransformer(transformers=my_list,remainder='passthrough',verbose_feature_names_out=False).set_output(transform='pandas')\\nsimple=[('most_frequent',SimpleImputer(strategy='most_frequent'),['Location','Cross_Street','Area_Name','Modus_Operandi','Victim_Sex','Victim_Descent','Premise_Description',\\n                                                                  'Weapon_Description','Status'])]\\nct2=ColumnTransformer(transformers=simple,remainder='passthrough',verbose_feature_names_out=False).set_output(transform='pandas')\\nmy_list3=[('std',StandardScaler(),['Latitude', 'Longitude', 'Time_Occurred', 'Area_ID',\\n       'Reporting_District_no', 'Part 1-2', 'Victim_Age', 'Premise_Code',\\n       'Weapon_Used_Code']),\\n        ('ohe',OneHotEncoder( handle_unknown='ignore',sparse_output=False),['Location','Cross_Street','Area_Name','Modus_Operandi','Victim_Sex','Victim_Descent','Premise_Description','Weapon_Description','Status','Status_Description'])]\\nct3=ColumnTransformer(transformers=my_list3,verbose_feature_names_out=False)\""
      ]
     },
     "execution_count": 24,
     "metadata": {},
     "output_type": "execute_result"
    }
   ],
   "source": [
    "'''my_list=[('mean',SimpleImputer(strategy='mean'),['Latitude', 'Longitude', 'Time_Occurred', 'Area_ID',\n",
    "       'Reporting_District_no', 'Part 1-2', 'Victim_Age', 'Premise_Code',\n",
    "       'Weapon_Used_Code'])]\n",
    "ct1=ColumnTransformer(transformers=my_list,remainder='passthrough',verbose_feature_names_out=False).set_output(transform='pandas')\n",
    "simple=[('most_frequent',SimpleImputer(strategy='most_frequent'),['Location','Cross_Street','Area_Name','Modus_Operandi','Victim_Sex','Victim_Descent','Premise_Description',\n",
    "                                                                  'Weapon_Description','Status'])]\n",
    "ct2=ColumnTransformer(transformers=simple,remainder='passthrough',verbose_feature_names_out=False).set_output(transform='pandas')\n",
    "my_list3=[('std',StandardScaler(),['Latitude', 'Longitude', 'Time_Occurred', 'Area_ID',\n",
    "       'Reporting_District_no', 'Part 1-2', 'Victim_Age', 'Premise_Code',\n",
    "       'Weapon_Used_Code']),\n",
    "        ('ohe',OneHotEncoder( handle_unknown='ignore',sparse_output=False),['Location','Cross_Street','Area_Name','Modus_Operandi','Victim_Sex','Victim_Descent','Premise_Description','Weapon_Description','Status','Status_Description'])]\n",
    "ct3=ColumnTransformer(transformers=my_list3,verbose_feature_names_out=False)'''\n"
   ]
  },
  {
   "cell_type": "code",
   "execution_count": 25,
   "id": "c34ed585",
   "metadata": {
    "execution": {
     "iopub.execute_input": "2024-08-02T10:22:29.250896Z",
     "iopub.status.busy": "2024-08-02T10:22:29.249963Z",
     "iopub.status.idle": "2024-08-02T10:22:29.259446Z",
     "shell.execute_reply": "2024-08-02T10:22:29.258261Z"
    },
    "papermill": {
     "duration": 0.036153,
     "end_time": "2024-08-02T10:22:29.261946",
     "exception": false,
     "start_time": "2024-08-02T10:22:29.225793",
     "status": "completed"
    },
    "tags": []
   },
   "outputs": [
    {
     "data": {
      "text/plain": [
       "\"\\nmy_list=[('mean',KNNImputer(n_neighbors=6),['Latitude', 'Longitude', 'Time_Occurred', 'Area_ID',\\n       'Reporting_District_no', 'Part 1-2', 'Victim_Age', 'Premise_Code',\\n       'Weapon_Used_Code'])]\\nct1=ColumnTransformer(transformers=my_list,remainder='passthrough',verbose_feature_names_out=False).set_output(transform='pandas')\\nsimple=[('most_frequent',SimpleImputer(strategy='most_frequent'),['Location','Cross_Street','Date_Reported','Date_Occurred','Area_Name','Modus_Operandi','Victim_Sex','Victim_Descent','Premise_Description',\\n                                                                  'Weapon_Description','Status','Status_Description'])]\\nct2=ColumnTransformer(transformers=simple,remainder='passthrough',verbose_feature_names_out=False).set_output(transform='pandas')\\nmy_list3=[('std',StandardScaler(),['Latitude', 'Longitude', 'Time_Occurred', 'Area_ID',\\n       'Reporting_District_no', 'Part 1-2', 'Victim_Age', 'Premise_Code',\\n       'Weapon_Used_Code']),\\n        ('ohe',OneHotEncoder( handle_unknown='ignore',sparse_output=False),['Location','Cross_Street','Date_Reported','Date_Occurred','Area_Name','Modus_Operandi','Victim_Sex','Victim_Descent','Premise_Description','Weapon_Description','Status','Status_Description'])]\\nct3=ColumnTransformer(transformers=my_list3,verbose_feature_names_out=False)\\nstep=[('ct1',ct1),\\n      ('ct2',ct2),\\n      ('ct3',ct3)]\\npipe=Pipeline(steps=step)\\n\""
      ]
     },
     "execution_count": 25,
     "metadata": {},
     "output_type": "execute_result"
    }
   ],
   "source": [
    "'''\n",
    "my_list=[('mean',KNNImputer(n_neighbors=6),['Latitude', 'Longitude', 'Time_Occurred', 'Area_ID',\n",
    "       'Reporting_District_no', 'Part 1-2', 'Victim_Age', 'Premise_Code',\n",
    "       'Weapon_Used_Code'])]\n",
    "ct1=ColumnTransformer(transformers=my_list,remainder='passthrough',verbose_feature_names_out=False).set_output(transform='pandas')\n",
    "simple=[('most_frequent',SimpleImputer(strategy='most_frequent'),['Location','Cross_Street','Date_Reported','Date_Occurred','Area_Name','Modus_Operandi','Victim_Sex','Victim_Descent','Premise_Description',\n",
    "                                                                  'Weapon_Description','Status','Status_Description'])]\n",
    "ct2=ColumnTransformer(transformers=simple,remainder='passthrough',verbose_feature_names_out=False).set_output(transform='pandas')\n",
    "my_list3=[('std',StandardScaler(),['Latitude', 'Longitude', 'Time_Occurred', 'Area_ID',\n",
    "       'Reporting_District_no', 'Part 1-2', 'Victim_Age', 'Premise_Code',\n",
    "       'Weapon_Used_Code']),\n",
    "        ('ohe',OneHotEncoder( handle_unknown='ignore',sparse_output=False),['Location','Cross_Street','Date_Reported','Date_Occurred','Area_Name','Modus_Operandi','Victim_Sex','Victim_Descent','Premise_Description','Weapon_Description','Status','Status_Description'])]\n",
    "ct3=ColumnTransformer(transformers=my_list3,verbose_feature_names_out=False)\n",
    "step=[('ct1',ct1),\n",
    "      ('ct2',ct2),\n",
    "      ('ct3',ct3)]\n",
    "pipe=Pipeline(steps=step)\n",
    "'''"
   ]
  },
  {
   "cell_type": "code",
   "execution_count": 26,
   "id": "213003a0",
   "metadata": {
    "execution": {
     "iopub.execute_input": "2024-08-02T10:22:29.308618Z",
     "iopub.status.busy": "2024-08-02T10:22:29.308149Z",
     "iopub.status.idle": "2024-08-02T10:22:29.313718Z",
     "shell.execute_reply": "2024-08-02T10:22:29.312285Z"
    },
    "papermill": {
     "duration": 0.031837,
     "end_time": "2024-08-02T10:22:29.316532",
     "exception": false,
     "start_time": "2024-08-02T10:22:29.284695",
     "status": "completed"
    },
    "tags": []
   },
   "outputs": [],
   "source": [
    "#transformed_X_train=ct1.fit_transform(x_train)\n",
    "#final_x_train=ct2.fit_transform(transformed_X_train)\n",
    "#final_X_train1=ct3.fit_transform(final_x_train)"
   ]
  },
  {
   "cell_type": "code",
   "execution_count": 27,
   "id": "371ccb4f",
   "metadata": {
    "execution": {
     "iopub.execute_input": "2024-08-02T10:22:29.362735Z",
     "iopub.status.busy": "2024-08-02T10:22:29.362317Z",
     "iopub.status.idle": "2024-08-02T10:22:32.346012Z",
     "shell.execute_reply": "2024-08-02T10:22:32.344661Z"
    },
    "papermill": {
     "duration": 3.010276,
     "end_time": "2024-08-02T10:22:32.349065",
     "exception": false,
     "start_time": "2024-08-02T10:22:29.338789",
     "status": "completed"
    },
    "tags": []
   },
   "outputs": [],
   "source": [
    "step=[('ct1',ct1),\n",
    "      ('ct2',ct2),\n",
    "      ('ct3',ct3)]\n",
    "pipe=Pipeline(steps=step)\n",
    "transformed_X_train=pipe.fit_transform(x_train)\n"
   ]
  },
  {
   "cell_type": "code",
   "execution_count": 28,
   "id": "43b2bd08",
   "metadata": {
    "execution": {
     "iopub.execute_input": "2024-08-02T10:22:32.395166Z",
     "iopub.status.busy": "2024-08-02T10:22:32.394716Z",
     "iopub.status.idle": "2024-08-02T10:22:32.406778Z",
     "shell.execute_reply": "2024-08-02T10:22:32.405575Z"
    },
    "papermill": {
     "duration": 0.038297,
     "end_time": "2024-08-02T10:22:32.409448",
     "exception": false,
     "start_time": "2024-08-02T10:22:32.371151",
     "status": "completed"
    },
    "tags": []
   },
   "outputs": [],
   "source": [
    "from sklearn.preprocessing import LabelEncoder\n",
    "enc=LabelEncoder()\n",
    "y_encoded_train=enc.fit_transform(y_train)\n",
    "y_val_encoded=enc.transform(y_val)"
   ]
  },
  {
   "cell_type": "code",
   "execution_count": 29,
   "id": "d8048cc2",
   "metadata": {
    "execution": {
     "iopub.execute_input": "2024-08-02T10:22:32.455599Z",
     "iopub.status.busy": "2024-08-02T10:22:32.455068Z",
     "iopub.status.idle": "2024-08-02T10:22:32.574214Z",
     "shell.execute_reply": "2024-08-02T10:22:32.572865Z"
    },
    "papermill": {
     "duration": 0.145693,
     "end_time": "2024-08-02T10:22:32.577141",
     "exception": false,
     "start_time": "2024-08-02T10:22:32.431448",
     "status": "completed"
    },
    "tags": []
   },
   "outputs": [],
   "source": [
    "from sklearn.neighbors import KNeighborsClassifier\n",
    "from sklearn.tree import DecisionTreeClassifier\n",
    "from sklearn.model_selection import GridSearchCV\n",
    "from sklearn.linear_model import LogisticRegression\n",
    "from sklearn.ensemble import RandomForestClassifier\n",
    "from sklearn.svm import SVC\n",
    "from sklearn.neighbors import KNeighborsClassifier\n",
    "from sklearn.metrics import accuracy_score"
   ]
  },
  {
   "cell_type": "code",
   "execution_count": 30,
   "id": "fb5db083",
   "metadata": {
    "execution": {
     "iopub.execute_input": "2024-08-02T10:22:32.626304Z",
     "iopub.status.busy": "2024-08-02T10:22:32.625661Z",
     "iopub.status.idle": "2024-08-02T10:22:33.362739Z",
     "shell.execute_reply": "2024-08-02T10:22:33.361109Z"
    },
    "papermill": {
     "duration": 0.763764,
     "end_time": "2024-08-02T10:22:33.365679",
     "exception": false,
     "start_time": "2024-08-02T10:22:32.601915",
     "status": "completed"
    },
    "tags": []
   },
   "outputs": [],
   "source": [
    "x_val.replace('?',np.nan,inplace=True)\n",
    "x_val.replace({'Victim_Age':[0,-1,-2]},np.nan,inplace=True)\n",
    "#my_list4=[('median',SimpleImputer(strategy='median'),['Modus_Operandi'])]\n",
    "#column_trans=ColumnTransformer(transformers=my_list4,remainder='passthrough',verbose_feature_names_out=False).set_output(transform='pandas')\n",
    "#enc1=LabelEncoder()\n",
    "#x_val['Modus_Operandi']=enc1.fit_transform(x_val['Modus_Operandi'])\n",
    "transformed_x_val=pipe.transform(x_val)\n"
   ]
  },
  {
   "cell_type": "code",
   "execution_count": 31,
   "id": "19f3b24b",
   "metadata": {
    "execution": {
     "iopub.execute_input": "2024-08-02T10:22:33.412141Z",
     "iopub.status.busy": "2024-08-02T10:22:33.411703Z",
     "iopub.status.idle": "2024-08-02T10:22:33.418939Z",
     "shell.execute_reply": "2024-08-02T10:22:33.417868Z"
    },
    "papermill": {
     "duration": 0.03354,
     "end_time": "2024-08-02T10:22:33.421321",
     "exception": false,
     "start_time": "2024-08-02T10:22:33.387781",
     "status": "completed"
    },
    "tags": []
   },
   "outputs": [
    {
     "data": {
      "text/plain": [
       "0.837"
      ]
     },
     "execution_count": 31,
     "metadata": {},
     "output_type": "execute_result"
    }
   ],
   "source": [
    "'''randclas=RandomForestClassifier()\n",
    "randclas.fit(transformed_X_train,y_encoded_train)\n",
    "randclas.score(transformed_X_train,y_encoded_train)\n",
    "randclas.score(transformed_x_val,y_val_encoded)\n",
    "'''\n",
    "0.837"
   ]
  },
  {
   "cell_type": "code",
   "execution_count": 32,
   "id": "f5db1992",
   "metadata": {
    "execution": {
     "iopub.execute_input": "2024-08-02T10:22:33.468030Z",
     "iopub.status.busy": "2024-08-02T10:22:33.467559Z",
     "iopub.status.idle": "2024-08-02T10:22:33.475803Z",
     "shell.execute_reply": "2024-08-02T10:22:33.474478Z"
    },
    "papermill": {
     "duration": 0.034706,
     "end_time": "2024-08-02T10:22:33.478457",
     "exception": false,
     "start_time": "2024-08-02T10:22:33.443751",
     "status": "completed"
    },
    "tags": []
   },
   "outputs": [
    {
     "data": {
      "text/plain": [
       "\"param_grid= {'knn__n_neighbors':list(range(1,31))}\\npipe1=Pipeline([('minmax',MinMaxScaler()),\\n               ('knn',KNeighborsClassifier())])\\ngcv=GridSearchCV(estimator=pipe1,\\n                 param_grid=param_grid,\\n                 cv=4,\\n                 n_jobs=-2,\\n                 scoring='accuracy'\\n                 )\\ngcv.fit(transformed_X_train,y_encoded_train)\\ngcv.score(transformed_X_train,y_encoded_train)\\ngcv.score(transformed_x_val,y_val_encoded)\""
      ]
     },
     "execution_count": 32,
     "metadata": {},
     "output_type": "execute_result"
    }
   ],
   "source": [
    "'''param_grid= {'knn__n_neighbors':list(range(1,31))}\n",
    "pipe1=Pipeline([('minmax',MinMaxScaler()),\n",
    "               ('knn',KNeighborsClassifier())])\n",
    "gcv=GridSearchCV(estimator=pipe1,\n",
    "                 param_grid=param_grid,\n",
    "                 cv=4,\n",
    "                 n_jobs=-2,\n",
    "                 scoring='accuracy'\n",
    "                 )\n",
    "gcv.fit(transformed_X_train,y_encoded_train)\n",
    "gcv.score(transformed_X_train,y_encoded_train)\n",
    "gcv.score(transformed_x_val,y_val_encoded)'''"
   ]
  },
  {
   "cell_type": "code",
   "execution_count": 33,
   "id": "a1a2976c",
   "metadata": {
    "execution": {
     "iopub.execute_input": "2024-08-02T10:22:33.526204Z",
     "iopub.status.busy": "2024-08-02T10:22:33.525032Z",
     "iopub.status.idle": "2024-08-02T10:22:33.532938Z",
     "shell.execute_reply": "2024-08-02T10:22:33.531813Z"
    },
    "papermill": {
     "duration": 0.034264,
     "end_time": "2024-08-02T10:22:33.535527",
     "exception": false,
     "start_time": "2024-08-02T10:22:33.501263",
     "status": "completed"
    },
    "tags": []
   },
   "outputs": [
    {
     "data": {
      "text/plain": [
       "'from sklearn.ensemble import BaggingClassifier\\nbag=BaggingClassifier(random_state = 1)\\nbag.fit(transformed_X_train,y_encoded_train)\\nbag.score(transformed_X_train,y_encoded_train)\\nbag.score(transformed_x_val,y_val_encoded)'"
      ]
     },
     "execution_count": 33,
     "metadata": {},
     "output_type": "execute_result"
    }
   ],
   "source": [
    "#BaggingClassifier\n",
    "'''from sklearn.ensemble import BaggingClassifier\n",
    "bag=BaggingClassifier(random_state = 1)\n",
    "bag.fit(transformed_X_train,y_encoded_train)\n",
    "bag.score(transformed_X_train,y_encoded_train)\n",
    "bag.score(transformed_x_val,y_val_encoded)'''\n",
    "#Score = 0.86825"
   ]
  },
  {
   "cell_type": "code",
   "execution_count": 34,
   "id": "d3c273b1",
   "metadata": {
    "execution": {
     "iopub.execute_input": "2024-08-02T10:22:33.582678Z",
     "iopub.status.busy": "2024-08-02T10:22:33.582287Z",
     "iopub.status.idle": "2024-08-02T10:22:33.590349Z",
     "shell.execute_reply": "2024-08-02T10:22:33.589168Z"
    },
    "papermill": {
     "duration": 0.034788,
     "end_time": "2024-08-02T10:22:33.592866",
     "exception": false,
     "start_time": "2024-08-02T10:22:33.558078",
     "status": "completed"
    },
    "tags": []
   },
   "outputs": [
    {
     "data": {
      "text/plain": [
       "'from sklearn.ensemble import GradientBoostingClassifier\\nboost=GradientBoostingClassifier(random_state = 1)\\nboost.fit(transformed_X_train,y_encoded_train)\\nboost.score(transformed_X_train,y_encoded_train)\\nboost.score(transformed_x_val,y_val_encoded)'"
      ]
     },
     "execution_count": 34,
     "metadata": {},
     "output_type": "execute_result"
    }
   ],
   "source": [
    "#BoostingClassifier\n",
    "'''from sklearn.ensemble import GradientBoostingClassifier\n",
    "boost=GradientBoostingClassifier(random_state = 1)\n",
    "boost.fit(transformed_X_train,y_encoded_train)\n",
    "boost.score(transformed_X_train,y_encoded_train)\n",
    "boost.score(transformed_x_val,y_val_encoded)'''"
   ]
  },
  {
   "cell_type": "code",
   "execution_count": 35,
   "id": "2bb71f61",
   "metadata": {
    "execution": {
     "iopub.execute_input": "2024-08-02T10:22:33.640086Z",
     "iopub.status.busy": "2024-08-02T10:22:33.639668Z",
     "iopub.status.idle": "2024-08-02T10:22:33.646938Z",
     "shell.execute_reply": "2024-08-02T10:22:33.645841Z"
    },
    "papermill": {
     "duration": 0.034009,
     "end_time": "2024-08-02T10:22:33.649575",
     "exception": false,
     "start_time": "2024-08-02T10:22:33.615566",
     "status": "completed"
    },
    "tags": []
   },
   "outputs": [
    {
     "data": {
      "text/plain": [
       "'knn=KNeighborsClassifier(n_neighbors=3)\\nknn.fit(transformed_X_train,y_encoded_train)\\nknn.score(transformed_X_train,y_encoded_train)\\nknn.score(transformed_x_val,y_val_encoded)'"
      ]
     },
     "execution_count": 35,
     "metadata": {},
     "output_type": "execute_result"
    }
   ],
   "source": [
    "'''knn=KNeighborsClassifier(n_neighbors=3)\n",
    "knn.fit(transformed_X_train,y_encoded_train)\n",
    "knn.score(transformed_X_train,y_encoded_train)\n",
    "knn.score(transformed_x_val,y_val_encoded)'''\n",
    "#score was 0.7555"
   ]
  },
  {
   "cell_type": "code",
   "execution_count": 36,
   "id": "8c57ca28",
   "metadata": {
    "execution": {
     "iopub.execute_input": "2024-08-02T10:22:33.697152Z",
     "iopub.status.busy": "2024-08-02T10:22:33.696695Z",
     "iopub.status.idle": "2024-08-02T12:21:39.367055Z",
     "shell.execute_reply": "2024-08-02T12:21:39.365433Z"
    },
    "papermill": {
     "duration": 7145.749381,
     "end_time": "2024-08-02T12:21:39.421631",
     "exception": false,
     "start_time": "2024-08-02T10:22:33.672250",
     "status": "completed"
    },
    "tags": []
   },
   "outputs": [
    {
     "data": {
      "text/plain": [
       "0.89075"
      ]
     },
     "execution_count": 36,
     "metadata": {},
     "output_type": "execute_result"
    }
   ],
   "source": [
    "from sklearn.neural_network import MLPClassifier\n",
    "mlp=MLPClassifier(hidden_layer_sizes=(45,), activation=\"relu\",solver=\"sgd\", alpha=1e-4,learning_rate='constant',max_iter=1500, random_state=1)\n",
    "mlp.fit(transformed_X_train,y_encoded_train)\n",
    "mlp.score(transformed_X_train,y_encoded_train)\n",
    "mlp.score(transformed_x_val,y_val_encoded)\n",
    "# score 0.87925\n",
    "# score 0.88325\n",
    "# score 0.891\n"
   ]
  },
  {
   "cell_type": "code",
   "execution_count": 37,
   "id": "6b2f9168",
   "metadata": {
    "execution": {
     "iopub.execute_input": "2024-08-02T12:21:39.498927Z",
     "iopub.status.busy": "2024-08-02T12:21:39.498457Z",
     "iopub.status.idle": "2024-08-02T12:21:39.507395Z",
     "shell.execute_reply": "2024-08-02T12:21:39.505865Z"
    },
    "papermill": {
     "duration": 0.039085,
     "end_time": "2024-08-02T12:21:39.510143",
     "exception": false,
     "start_time": "2024-08-02T12:21:39.471058",
     "status": "completed"
    },
    "tags": []
   },
   "outputs": [
    {
     "data": {
      "text/plain": [
       "'from sklearn.neural_network import MLPClassifier\\n#param_grid2={\\'hidden_layer_sizes\\': [(50,), (100,)],\\n#            \\'max_iter\\':[500, 1000]\\n#           }\\nMLPGCV=GridSearchCV(estimator=MLPClassifier(hidden_layer_sizes=(50,),activation=\"relu\",solver=\"sgd\", alpha=1e-4,learning_rate=\\'constant\\',max_iter=1000,random_state=1),\\n                 param_grid=param_grid2,\\n                 cv=4,\\n                 n_jobs=-1,\\n                 scoring=\\'accuracy\\'\\n                  )                           \\nMLPGCV.fit(transformed_X_train,y_encoded_train)\\nMLPGCV.score(transformed_X_train,y_encoded_train)\\nMLPGCV.score(transformed_x_val,y_val_encoded)'"
      ]
     },
     "execution_count": 37,
     "metadata": {},
     "output_type": "execute_result"
    }
   ],
   "source": [
    "'''from sklearn.neural_network import MLPClassifier\n",
    "#param_grid2={'hidden_layer_sizes': [(50,), (100,)],\n",
    "#            'max_iter':[500, 1000]\n",
    "#           }\n",
    "MLPGCV=GridSearchCV(estimator=MLPClassifier(hidden_layer_sizes=(50,),activation=\"relu\",solver=\"sgd\", alpha=1e-4,learning_rate='constant',max_iter=1000,random_state=1),\n",
    "                 param_grid=param_grid2,\n",
    "                 cv=4,\n",
    "                 n_jobs=-1,\n",
    "                 scoring='accuracy'\n",
    "                  )                           \n",
    "MLPGCV.fit(transformed_X_train,y_encoded_train)\n",
    "MLPGCV.score(transformed_X_train,y_encoded_train)\n",
    "MLPGCV.score(transformed_x_val,y_val_encoded)'''"
   ]
  },
  {
   "cell_type": "code",
   "execution_count": 38,
   "id": "34db7634",
   "metadata": {
    "execution": {
     "iopub.execute_input": "2024-08-02T12:21:39.558763Z",
     "iopub.status.busy": "2024-08-02T12:21:39.558355Z",
     "iopub.status.idle": "2024-08-02T12:21:39.566573Z",
     "shell.execute_reply": "2024-08-02T12:21:39.565423Z"
    },
    "papermill": {
     "duration": 0.035315,
     "end_time": "2024-08-02T12:21:39.569241",
     "exception": false,
     "start_time": "2024-08-02T12:21:39.533926",
     "status": "completed"
    },
    "tags": []
   },
   "outputs": [
    {
     "data": {
      "text/plain": [
       "\"from sklearn.ensemble import BaggingClassifier\\nfrom sklearn.ensemble import RandomForestClassifier\\nfrom sklearn.ensemble import GradientBoostingClassifier\\n\\nfrom sklearn.ensemble import VotingClassifier\\nclf1  = BaggingClassifier(random_state = 1)\\nclf2 = RandomForestClassifier(random_state = 1)\\nclf3 = GradientBoostingClassifier(random_state = 1)\\n\\nmodel = VotingClassifier(estimators = [('bc',clf1),('rf',clf2),('gb',clf3)])\\nmodel.fit(transformed_X_train,y_encoded_train)\\nmodel.score(transformed_X_train,y_encoded_train)\\nmodel.score(transformed_x_val,y_val_encoded)\\n\""
      ]
     },
     "execution_count": 38,
     "metadata": {},
     "output_type": "execute_result"
    }
   ],
   "source": [
    "'''from sklearn.ensemble import BaggingClassifier\n",
    "from sklearn.ensemble import RandomForestClassifier\n",
    "from sklearn.ensemble import GradientBoostingClassifier\n",
    "\n",
    "from sklearn.ensemble import VotingClassifier\n",
    "clf1  = BaggingClassifier(random_state = 1)\n",
    "clf2 = RandomForestClassifier(random_state = 1)\n",
    "clf3 = GradientBoostingClassifier(random_state = 1)\n",
    "\n",
    "model = VotingClassifier(estimators = [('bc',clf1),('rf',clf2),('gb',clf3)])\n",
    "model.fit(transformed_X_train,y_encoded_train)\n",
    "model.score(transformed_X_train,y_encoded_train)\n",
    "model.score(transformed_x_val,y_val_encoded)\n",
    "'''"
   ]
  },
  {
   "cell_type": "markdown",
   "id": "06e39426",
   "metadata": {
    "papermill": {
     "duration": 0.024438,
     "end_time": "2024-08-02T12:21:39.618874",
     "exception": false,
     "start_time": "2024-08-02T12:21:39.594436",
     "status": "completed"
    },
    "tags": []
   },
   "source": [
    "***SVM Models - SVC, NuSVC, LinearSVC***"
   ]
  },
  {
   "cell_type": "code",
   "execution_count": 39,
   "id": "30c8bf7b",
   "metadata": {
    "execution": {
     "iopub.execute_input": "2024-08-02T12:21:39.670166Z",
     "iopub.status.busy": "2024-08-02T12:21:39.669715Z",
     "iopub.status.idle": "2024-08-02T12:21:39.677933Z",
     "shell.execute_reply": "2024-08-02T12:21:39.676644Z"
    },
    "papermill": {
     "duration": 0.037534,
     "end_time": "2024-08-02T12:21:39.680638",
     "exception": false,
     "start_time": "2024-08-02T12:21:39.643104",
     "status": "completed"
    },
    "tags": []
   },
   "outputs": [
    {
     "data": {
      "text/plain": [
       "\"svc=SVC(gamma='auto')\\nsvc.fit(transformed_X_train,y_encoded_train)\\nsvc.score(transformed_X_train,y_encoded_train)\\nsvc.score(transformed_x_val,y_val_encoded)\""
      ]
     },
     "execution_count": 39,
     "metadata": {},
     "output_type": "execute_result"
    }
   ],
   "source": [
    "'''svc=SVC(gamma='auto')\n",
    "svc.fit(transformed_X_train,y_encoded_train)\n",
    "svc.score(transformed_X_train,y_encoded_train)\n",
    "svc.score(transformed_x_val,y_val_encoded)'''"
   ]
  },
  {
   "cell_type": "code",
   "execution_count": 40,
   "id": "82a67a0d",
   "metadata": {
    "execution": {
     "iopub.execute_input": "2024-08-02T12:21:39.734712Z",
     "iopub.status.busy": "2024-08-02T12:21:39.734265Z",
     "iopub.status.idle": "2024-08-02T12:21:39.742212Z",
     "shell.execute_reply": "2024-08-02T12:21:39.741062Z"
    },
    "papermill": {
     "duration": 0.03832,
     "end_time": "2024-08-02T12:21:39.744698",
     "exception": false,
     "start_time": "2024-08-02T12:21:39.706378",
     "status": "completed"
    },
    "tags": []
   },
   "outputs": [
    {
     "data": {
      "text/plain": [
       "'from sklearn.tree import DecisionTreeClassifier\\ndct=DecisionTreeClassifier(random_state=1)\\nparam_grid={\\'criterion\\':[\\'entropy\\',\\'gini\\'], \"splitter\":[\\'random\\',\\'best\\'],\\'min_samples_leaf\\':[2,4,6,8,10],\\'max_depth\\':[3,4,5,6]}\\ngcv=GridSearchCV(dct,param_grid,cv=4,n_jobs=-1)\\n'"
      ]
     },
     "execution_count": 40,
     "metadata": {},
     "output_type": "execute_result"
    }
   ],
   "source": [
    "'''from sklearn.tree import DecisionTreeClassifier\n",
    "dct=DecisionTreeClassifier(random_state=1)\n",
    "param_grid={'criterion':['entropy','gini'], \"splitter\":['random','best'],'min_samples_leaf':[2,4,6,8,10],'max_depth':[3,4,5,6]}\n",
    "gcv=GridSearchCV(dct,param_grid,cv=4,n_jobs=-1)\n",
    "'''\n"
   ]
  },
  {
   "cell_type": "code",
   "execution_count": 41,
   "id": "49fc16af",
   "metadata": {
    "execution": {
     "iopub.execute_input": "2024-08-02T12:21:39.794191Z",
     "iopub.status.busy": "2024-08-02T12:21:39.793748Z",
     "iopub.status.idle": "2024-08-02T12:21:39.802296Z",
     "shell.execute_reply": "2024-08-02T12:21:39.800506Z"
    },
    "papermill": {
     "duration": 0.036689,
     "end_time": "2024-08-02T12:21:39.805071",
     "exception": false,
     "start_time": "2024-08-02T12:21:39.768382",
     "status": "completed"
    },
    "tags": []
   },
   "outputs": [
    {
     "data": {
      "text/plain": [
       "'from sklearn.tree import DecisionTreeRegressor\\ndct=DecisionTreeRegressor(random_state=1)\\nparam_grid={\\'criterion\\':[\\'squared_error\\', \\'friedman_mse\\', \\'absolute_error\\', \\'poisson\\'], \"splitter\":[\\'random\\',\\'best\\'],\\'max_features\\':[4,5,6,\\'sqrt\\', \\'log2\\'],\\'ccp\\': [0.001,0.01,0.02,0.05]}\\ngcv=GridSearchCV(dct,param_grid,cv=4,n_jobs=-1)\\n'"
      ]
     },
     "execution_count": 41,
     "metadata": {},
     "output_type": "execute_result"
    }
   ],
   "source": [
    "'''from sklearn.tree import DecisionTreeRegressor\n",
    "dct=DecisionTreeRegressor(random_state=1)\n",
    "param_grid={'criterion':['squared_error', 'friedman_mse', 'absolute_error', 'poisson'], \"splitter\":['random','best'],'max_features':[4,5,6,'sqrt', 'log2'],'ccp': [0.001,0.01,0.02,0.05]}\n",
    "gcv=GridSearchCV(dct,param_grid,cv=4,n_jobs=-1)\n",
    "'''"
   ]
  },
  {
   "cell_type": "code",
   "execution_count": 42,
   "id": "7bea4222",
   "metadata": {
    "execution": {
     "iopub.execute_input": "2024-08-02T12:21:39.856739Z",
     "iopub.status.busy": "2024-08-02T12:21:39.856306Z",
     "iopub.status.idle": "2024-08-02T12:21:39.864218Z",
     "shell.execute_reply": "2024-08-02T12:21:39.862876Z"
    },
    "papermill": {
     "duration": 0.036932,
     "end_time": "2024-08-02T12:21:39.866821",
     "exception": false,
     "start_time": "2024-08-02T12:21:39.829889",
     "status": "completed"
    },
    "tags": []
   },
   "outputs": [
    {
     "data": {
      "text/plain": [
       "'gcv.fit(transformed_X_train,y_encoded_train)\\ngcv.score(transformed_X_train,y_encoded_train)\\ngcv.score(transformed_x_val,y_val_encoded)'"
      ]
     },
     "execution_count": 42,
     "metadata": {},
     "output_type": "execute_result"
    }
   ],
   "source": [
    "'''gcv.fit(transformed_X_train,y_encoded_train)\n",
    "gcv.score(transformed_X_train,y_encoded_train)\n",
    "gcv.score(transformed_x_val,y_val_encoded)'''"
   ]
  },
  {
   "cell_type": "code",
   "execution_count": 43,
   "id": "4069c9cc",
   "metadata": {
    "execution": {
     "iopub.execute_input": "2024-08-02T12:21:39.917689Z",
     "iopub.status.busy": "2024-08-02T12:21:39.917252Z",
     "iopub.status.idle": "2024-08-02T12:21:39.922366Z",
     "shell.execute_reply": "2024-08-02T12:21:39.921068Z"
    },
    "papermill": {
     "duration": 0.03351,
     "end_time": "2024-08-02T12:21:39.924834",
     "exception": false,
     "start_time": "2024-08-02T12:21:39.891324",
     "status": "completed"
    },
    "tags": []
   },
   "outputs": [],
   "source": [
    "#clf = LogisticRegression(random_state=0)"
   ]
  },
  {
   "cell_type": "code",
   "execution_count": 44,
   "id": "0ac58029",
   "metadata": {
    "execution": {
     "iopub.execute_input": "2024-08-02T12:21:39.974390Z",
     "iopub.status.busy": "2024-08-02T12:21:39.973943Z",
     "iopub.status.idle": "2024-08-02T12:21:39.979190Z",
     "shell.execute_reply": "2024-08-02T12:21:39.978075Z"
    },
    "papermill": {
     "duration": 0.033125,
     "end_time": "2024-08-02T12:21:39.981972",
     "exception": false,
     "start_time": "2024-08-02T12:21:39.948847",
     "status": "completed"
    },
    "tags": []
   },
   "outputs": [],
   "source": [
    "#dct.fit(final_X_train1,y_encoded_train)\n",
    "#dct.score(final_X_train1,y_encoded_train)"
   ]
  },
  {
   "cell_type": "code",
   "execution_count": 45,
   "id": "519bc841",
   "metadata": {
    "execution": {
     "iopub.execute_input": "2024-08-02T12:21:40.033238Z",
     "iopub.status.busy": "2024-08-02T12:21:40.032798Z",
     "iopub.status.idle": "2024-08-02T12:21:40.038271Z",
     "shell.execute_reply": "2024-08-02T12:21:40.037057Z"
    },
    "papermill": {
     "duration": 0.034312,
     "end_time": "2024-08-02T12:21:40.041020",
     "exception": false,
     "start_time": "2024-08-02T12:21:40.006708",
     "status": "completed"
    },
    "tags": []
   },
   "outputs": [],
   "source": [
    "#gcv.score(final_X_train1,y_encoded_train)"
   ]
  },
  {
   "cell_type": "code",
   "execution_count": 46,
   "id": "fab76f94",
   "metadata": {
    "execution": {
     "iopub.execute_input": "2024-08-02T12:21:40.091134Z",
     "iopub.status.busy": "2024-08-02T12:21:40.090664Z",
     "iopub.status.idle": "2024-08-02T12:21:40.096480Z",
     "shell.execute_reply": "2024-08-02T12:21:40.095229Z"
    },
    "papermill": {
     "duration": 0.034402,
     "end_time": "2024-08-02T12:21:40.099175",
     "exception": false,
     "start_time": "2024-08-02T12:21:40.064773",
     "status": "completed"
    },
    "tags": []
   },
   "outputs": [],
   "source": [
    "#X_val1=ct1.transform(x_val)\n",
    "#X_val2=ct2.transform(X_val1)\n",
    "#X_val1=ct3.transform(X_val2)"
   ]
  },
  {
   "cell_type": "code",
   "execution_count": 47,
   "id": "5080422f",
   "metadata": {
    "execution": {
     "iopub.execute_input": "2024-08-02T12:21:40.150920Z",
     "iopub.status.busy": "2024-08-02T12:21:40.150472Z",
     "iopub.status.idle": "2024-08-02T12:21:40.157088Z",
     "shell.execute_reply": "2024-08-02T12:21:40.155490Z"
    },
    "papermill": {
     "duration": 0.036876,
     "end_time": "2024-08-02T12:21:40.160287",
     "exception": false,
     "start_time": "2024-08-02T12:21:40.123411",
     "status": "completed"
    },
    "tags": []
   },
   "outputs": [],
   "source": [
    "#dct.score(X_val1,y_val_encoded)\n",
    "#gcv.score(X_val1,y_val_encoded)\n",
    "#randclas.score(X_val1,y_val_encoded)\n"
   ]
  },
  {
   "cell_type": "code",
   "execution_count": 48,
   "id": "b98b1fd1",
   "metadata": {
    "execution": {
     "iopub.execute_input": "2024-08-02T12:21:40.212721Z",
     "iopub.status.busy": "2024-08-02T12:21:40.212209Z",
     "iopub.status.idle": "2024-08-02T12:21:40.238399Z",
     "shell.execute_reply": "2024-08-02T12:21:40.237120Z"
    },
    "papermill": {
     "duration": 0.055263,
     "end_time": "2024-08-02T12:21:40.241340",
     "exception": false,
     "start_time": "2024-08-02T12:21:40.186077",
     "status": "completed"
    },
    "tags": []
   },
   "outputs": [
    {
     "data": {
      "text/html": [
       "<div>\n",
       "<style scoped>\n",
       "    .dataframe tbody tr th:only-of-type {\n",
       "        vertical-align: middle;\n",
       "    }\n",
       "\n",
       "    .dataframe tbody tr th {\n",
       "        vertical-align: top;\n",
       "    }\n",
       "\n",
       "    .dataframe thead th {\n",
       "        text-align: right;\n",
       "    }\n",
       "</style>\n",
       "<table border=\"1\" class=\"dataframe\">\n",
       "  <thead>\n",
       "    <tr style=\"text-align: right;\">\n",
       "      <th></th>\n",
       "      <th>ID</th>\n",
       "      <th>Crime_Category</th>\n",
       "      <th>Unnamed: 2</th>\n",
       "    </tr>\n",
       "  </thead>\n",
       "  <tbody>\n",
       "    <tr>\n",
       "      <th>0</th>\n",
       "      <td>1</td>\n",
       "      <td>Crimes against Persons</td>\n",
       "      <td>NaN</td>\n",
       "    </tr>\n",
       "    <tr>\n",
       "      <th>1</th>\n",
       "      <td>2</td>\n",
       "      <td>Crimes against Public Order</td>\n",
       "      <td>NaN</td>\n",
       "    </tr>\n",
       "    <tr>\n",
       "      <th>2</th>\n",
       "      <td>3</td>\n",
       "      <td>Other Crimes</td>\n",
       "      <td>NaN</td>\n",
       "    </tr>\n",
       "    <tr>\n",
       "      <th>3</th>\n",
       "      <td>4</td>\n",
       "      <td>Crimes against Public Order</td>\n",
       "      <td>NaN</td>\n",
       "    </tr>\n",
       "    <tr>\n",
       "      <th>4</th>\n",
       "      <td>5</td>\n",
       "      <td>Other Crimes</td>\n",
       "      <td>NaN</td>\n",
       "    </tr>\n",
       "  </tbody>\n",
       "</table>\n",
       "</div>"
      ],
      "text/plain": [
       "   ID              Crime_Category   Unnamed: 2\n",
       "0   1       Crimes against Persons         NaN\n",
       "1   2  Crimes against Public Order         NaN\n",
       "2   3                 Other Crimes         NaN\n",
       "3   4  Crimes against Public Order         NaN\n",
       "4   5                 Other Crimes         NaN"
      ]
     },
     "execution_count": 48,
     "metadata": {},
     "output_type": "execute_result"
    }
   ],
   "source": [
    "sample=pd.read_csv('/kaggle/input/crime-cast-forecasting-crime-categories/sample.csv')\n",
    "sample.head()"
   ]
  },
  {
   "cell_type": "code",
   "execution_count": 49,
   "id": "7422e884",
   "metadata": {
    "execution": {
     "iopub.execute_input": "2024-08-02T12:21:40.295207Z",
     "iopub.status.busy": "2024-08-02T12:21:40.294750Z",
     "iopub.status.idle": "2024-08-02T12:21:40.487245Z",
     "shell.execute_reply": "2024-08-02T12:21:40.485891Z"
    },
    "papermill": {
     "duration": 0.223846,
     "end_time": "2024-08-02T12:21:40.490407",
     "exception": false,
     "start_time": "2024-08-02T12:21:40.266561",
     "status": "completed"
    },
    "tags": []
   },
   "outputs": [
    {
     "name": "stderr",
     "output_type": "stream",
     "text": [
      "/tmp/ipykernel_17/2089620678.py:6: UserWarning: Could not infer format, so each element will be parsed individually, falling back to `dateutil`. To ensure parsing is consistent and as-expected, please specify a format.\n",
      "  X_test['Date_Reported'] = pd.to_datetime(X_test['Date_Reported'])\n",
      "/tmp/ipykernel_17/2089620678.py:7: UserWarning: Could not infer format, so each element will be parsed individually, falling back to `dateutil`. To ensure parsing is consistent and as-expected, please specify a format.\n",
      "  X_test['Date_Occurred'] = pd.to_datetime(X_test['Date_Occurred'])\n"
     ]
    }
   ],
   "source": [
    "X_test=pd.read_csv('/kaggle/input/crime-cast-forecasting-crime-categories/test.csv')\n",
    "X_test.shape\n",
    "X_test.drop(['Status_Description'],axis=1)\n",
    "\n",
    "# Convert date columns to datetime for test data\n",
    "X_test['Date_Reported'] = pd.to_datetime(X_test['Date_Reported'])\n",
    "X_test['Date_Occurred'] = pd.to_datetime(X_test['Date_Occurred'])\n",
    "\n",
    "X_test['Year_Occurred'] = X_test['Date_Occurred'].dt.year\n",
    "X_test['Month_Occurred'] = X_test['Date_Occurred'].dt.month\n",
    "X_test['Day_Occurred'] = X_test['Date_Occurred'].dt.day\n",
    "X_test['Hour_Occurred'] = X_test['Time_Occurred'] // 100"
   ]
  },
  {
   "cell_type": "code",
   "execution_count": 50,
   "id": "1667649d",
   "metadata": {
    "execution": {
     "iopub.execute_input": "2024-08-02T12:21:40.542239Z",
     "iopub.status.busy": "2024-08-02T12:21:40.541814Z",
     "iopub.status.idle": "2024-08-02T12:21:41.514453Z",
     "shell.execute_reply": "2024-08-02T12:21:41.513124Z"
    },
    "papermill": {
     "duration": 1.002069,
     "end_time": "2024-08-02T12:21:41.517614",
     "exception": false,
     "start_time": "2024-08-02T12:21:40.515545",
     "status": "completed"
    },
    "tags": []
   },
   "outputs": [],
   "source": [
    "X_test.replace('?',np.nan,inplace=True)\n",
    "X_test.replace({'Victim_Age':[0,-1,-2]},np.nan,inplace=True)\n",
    "X_test_transfored=pipe.transform(X_test)"
   ]
  },
  {
   "cell_type": "code",
   "execution_count": 51,
   "id": "9c5aac3f",
   "metadata": {
    "execution": {
     "iopub.execute_input": "2024-08-02T12:21:41.568998Z",
     "iopub.status.busy": "2024-08-02T12:21:41.568572Z",
     "iopub.status.idle": "2024-08-02T12:21:41.574058Z",
     "shell.execute_reply": "2024-08-02T12:21:41.572903Z"
    },
    "papermill": {
     "duration": 0.033848,
     "end_time": "2024-08-02T12:21:41.576575",
     "exception": false,
     "start_time": "2024-08-02T12:21:41.542727",
     "status": "completed"
    },
    "tags": []
   },
   "outputs": [],
   "source": [
    "#X_test1=ct1.transform(X_test)\n",
    "#X_test2=ct2.transform(X_test1)\n",
    "#X_test3=ct3.transform(X_test2)"
   ]
  },
  {
   "cell_type": "code",
   "execution_count": 52,
   "id": "c237d2da",
   "metadata": {
    "execution": {
     "iopub.execute_input": "2024-08-02T12:21:41.630142Z",
     "iopub.status.busy": "2024-08-02T12:21:41.629683Z",
     "iopub.status.idle": "2024-08-02T12:21:41.634954Z",
     "shell.execute_reply": "2024-08-02T12:21:41.633761Z"
    },
    "papermill": {
     "duration": 0.035088,
     "end_time": "2024-08-02T12:21:41.637570",
     "exception": false,
     "start_time": "2024-08-02T12:21:41.602482",
     "status": "completed"
    },
    "tags": []
   },
   "outputs": [],
   "source": [
    "#final_test=mn.transform(second_test)"
   ]
  },
  {
   "cell_type": "code",
   "execution_count": 53,
   "id": "d35602a0",
   "metadata": {
    "execution": {
     "iopub.execute_input": "2024-08-02T12:21:41.765183Z",
     "iopub.status.busy": "2024-08-02T12:21:41.764725Z",
     "iopub.status.idle": "2024-08-02T12:21:42.240409Z",
     "shell.execute_reply": "2024-08-02T12:21:42.238787Z"
    },
    "papermill": {
     "duration": 0.506469,
     "end_time": "2024-08-02T12:21:42.244883",
     "exception": false,
     "start_time": "2024-08-02T12:21:41.738414",
     "status": "completed"
    },
    "tags": []
   },
   "outputs": [],
   "source": [
    "#y_prediction=dct.predict(X_test3)\n",
    "#y_prediction=gcv.predict(X_test_transfored)\n",
    "#y_prediction=randclas.predict(X_test_transfored)\n",
    "#y_prediction=svc.predict(X_test_transfored)\n",
    "#y_prediction=bag.predict(X_test_transfored)\n",
    "y_prediction=mlp.predict(X_test_transfored)"
   ]
  },
  {
   "cell_type": "code",
   "execution_count": 54,
   "id": "59dddc51",
   "metadata": {
    "execution": {
     "iopub.execute_input": "2024-08-02T12:21:42.353388Z",
     "iopub.status.busy": "2024-08-02T12:21:42.351256Z",
     "iopub.status.idle": "2024-08-02T12:21:42.358791Z",
     "shell.execute_reply": "2024-08-02T12:21:42.357437Z"
    },
    "papermill": {
     "duration": 0.064061,
     "end_time": "2024-08-02T12:21:42.361486",
     "exception": false,
     "start_time": "2024-08-02T12:21:42.297425",
     "status": "completed"
    },
    "tags": []
   },
   "outputs": [],
   "source": [
    "#print(dct.score(X_test3,y_pred))\n"
   ]
  },
  {
   "cell_type": "code",
   "execution_count": 55,
   "id": "0b362c2b",
   "metadata": {
    "execution": {
     "iopub.execute_input": "2024-08-02T12:21:42.413021Z",
     "iopub.status.busy": "2024-08-02T12:21:42.412553Z",
     "iopub.status.idle": "2024-08-02T12:21:42.436251Z",
     "shell.execute_reply": "2024-08-02T12:21:42.434923Z"
    },
    "papermill": {
     "duration": 0.053334,
     "end_time": "2024-08-02T12:21:42.439365",
     "exception": false,
     "start_time": "2024-08-02T12:21:42.386031",
     "status": "completed"
    },
    "tags": []
   },
   "outputs": [],
   "source": [
    "submission = pd.DataFrame({'ID': np.arange(1, len(y_prediction) + 1), \n",
    "                           'Crime_Category': y_prediction\n",
    "                          })\n",
    "submission['Crime_Category'] = enc.inverse_transform(submission['Crime_Category'])\n",
    "submission.to_csv('submission.csv',index=False)"
   ]
  },
  {
   "cell_type": "code",
   "execution_count": 56,
   "id": "63839a70",
   "metadata": {
    "execution": {
     "iopub.execute_input": "2024-08-02T12:21:42.491716Z",
     "iopub.status.busy": "2024-08-02T12:21:42.491268Z",
     "iopub.status.idle": "2024-08-02T12:21:42.498539Z",
     "shell.execute_reply": "2024-08-02T12:21:42.497267Z"
    },
    "papermill": {
     "duration": 0.037186,
     "end_time": "2024-08-02T12:21:42.501288",
     "exception": false,
     "start_time": "2024-08-02T12:21:42.464102",
     "status": "completed"
    },
    "tags": []
   },
   "outputs": [
    {
     "data": {
      "text/plain": [
       "\"submission=pd.DataFrame({'ID':np.arange(1,5001),\\n                        'Crime_Category':y_prediction\\n                         })\\nsubmission.to_csv('submission.csv',index=False)\\n\""
      ]
     },
     "execution_count": 56,
     "metadata": {},
     "output_type": "execute_result"
    }
   ],
   "source": [
    "'''submission=pd.DataFrame({'ID':np.arange(1,5001),\n",
    "                        'Crime_Category':y_prediction\n",
    "                         })\n",
    "submission.to_csv('submission.csv',index=False)\n",
    "'''"
   ]
  }
 ],
 "metadata": {
  "kaggle": {
   "accelerator": "none",
   "dataSources": [
    {
     "databundleVersionId": 8446444,
     "sourceId": 77420,
     "sourceType": "competition"
    }
   ],
   "dockerImageVersionId": 30732,
   "isGpuEnabled": false,
   "isInternetEnabled": false,
   "language": "python",
   "sourceType": "notebook"
  },
  "kernelspec": {
   "display_name": "Python 3",
   "language": "python",
   "name": "python3"
  },
  "language_info": {
   "codemirror_mode": {
    "name": "ipython",
    "version": 3
   },
   "file_extension": ".py",
   "mimetype": "text/x-python",
   "name": "python",
   "nbconvert_exporter": "python",
   "pygments_lexer": "ipython3",
   "version": "3.10.13"
  },
  "papermill": {
   "default_parameters": {},
   "duration": 7165.720651,
   "end_time": "2024-08-02T12:21:43.468582",
   "environment_variables": {},
   "exception": null,
   "input_path": "__notebook__.ipynb",
   "output_path": "__notebook__.ipynb",
   "parameters": {},
   "start_time": "2024-08-02T10:22:17.747931",
   "version": "2.5.0"
  }
 },
 "nbformat": 4,
 "nbformat_minor": 5
}
